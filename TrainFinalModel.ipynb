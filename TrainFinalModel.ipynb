{
 "cells": [
  {
   "cell_type": "code",
   "execution_count": 2,
   "id": "3746ec74-e095-4110-a01c-ada9310e3833",
   "metadata": {},
   "outputs": [],
   "source": [
    "import pickle\n",
    "import tensorflow as tf\n",
    "from tensorflow import keras\n",
    "from tensorflow.keras.metrics import TopKCategoricalAccuracy\n",
    "from tensorflow.keras.models import Sequential, load_model\n",
    "from tensorflow.keras.layers import LSTM, Dense, Activation\n",
    "from tensorflow.keras.optimizers import RMSprop, Adam, Adagrad\n",
    "from matplotlib import pyplot as plt"
   ]
  },
  {
   "cell_type": "code",
   "execution_count": 9,
   "id": "4c043951-4c03-495f-a964-e6910bdc6540",
   "metadata": {},
   "outputs": [],
   "source": [
    "with open('FormatedData/100000Packs/MetaData/context_words.pickle', 'rb') as file:\n",
    "    context_words = pickle.load(file)\n",
    "with open('FormatedData/100000Packs/MetaData/unique_tokens.pickle', 'rb') as file:\n",
    "    unique_tokens = pickle.load(file)"
   ]
  },
  {
   "cell_type": "code",
   "execution_count": 3,
   "id": "c06a5e25-c6b8-41b5-8d00-e9850fde312d",
   "metadata": {},
   "outputs": [],
   "source": [
    "# Metrics\n",
    "def top_5_categorical_accuracy(y_true, y_pred):\n",
    "    return keras.metrics.top_k_categorical_accuracy(y_true, y_pred, k=5)\n",
    "def top_10_categorical_accuracy(y_true, y_pred):\n",
    "    return keras.metrics.top_k_categorical_accuracy(y_true, y_pred, k=10)\n",
    "\n",
    "def save_model(number, model):\n",
    "    model.save('FinalModel/Model' + str(number) + '.h5')\n",
    "    \n",
    "def save_history(number, history):\n",
    "    pickle.dump(history, open(\"FinalModel/history\" + str(number) + \".p\", \"wb\"))\n",
    "    \n",
    "def load_data(number):\n",
    "    folder_path = f'FormatedData/100000Packs/{number}/'\n",
    "    \n",
    "    with open(folder_path + 'x_train.pickle', 'rb') as file:\n",
    "        x_train = pickle.load(file)\n",
    "    with open(folder_path + 'x_val.pickle', 'rb') as file:\n",
    "        x_val = pickle.load(file)\n",
    "    with open(folder_path + 'y_train.pickle', 'rb') as file:\n",
    "        y_train = pickle.load(file)\n",
    "    with open(folder_path + 'y_val.pickle', 'rb') as file:\n",
    "        y_val = pickle.load(file)\n",
    "    \n",
    "    return x_train, x_val, y_train, y_val"
   ]
  },
  {
   "cell_type": "code",
   "execution_count": 4,
   "id": "6ae18241-c607-4bd2-80a3-3ff04cb4c531",
   "metadata": {},
   "outputs": [],
   "source": [
    "dropout=.5\n",
    "keras.backend.clear_session()\n",
    "# Create Model\n",
    "model = Sequential()\n",
    "model.add(LSTM(128, input_shape=(context_words, len(unique_tokens)), return_sequences=True, recurrent_dropout=dropout,  dropout=dropout, activation=\"softsign\"))\n",
    "model.add(LSTM(128, recurrent_dropout=dropout, dropout=dropout, activation=\"softsign\", return_sequences=True))\n",
    "model.add(LSTM(128, recurrent_dropout=dropout, dropout=dropout, activation=\"softsign\"))\n",
    "model.add(Dense(len(unique_tokens), activation=\"softmax\"))\n",
    "\n",
    "model.compile(loss='categorical_crossentropy', optimizer=Adagrad(learning_rate=1), metrics=['accuracy', top_5_categorical_accuracy, top_10_categorical_accuracy])"
   ]
  },
  {
   "cell_type": "code",
   "execution_count": null,
   "id": "26f3d894-59f8-4411-8394-25702fd2dab1",
   "metadata": {},
   "outputs": [],
   "source": [
    "for j in range(1,6):\n",
    "    # Train Model\n",
    "    x_train, x_val, y_train, y_val = load_data(j)\n",
    "    history = model.fit(x_train, y_train, validation_data=(x_val, y_val), batch_size=128, epochs=20, shuffle=True).history\n",
    "    save_history(str(i)+\".\"+str(j),history)\n",
    "save_model(1,model)"
   ]
  },
  {
   "cell_type": "code",
   "execution_count": null,
   "id": "d51fcd17-81cd-4bc7-98fe-b14d84284d47",
   "metadata": {
    "collapsed": true,
    "jupyter": {
     "outputs_hidden": true
    },
    "tags": []
   },
   "outputs": [
    {
     "name": "stdout",
     "output_type": "stream",
     "text": [
      "743/743 [==============================] - 858s 1s/step - loss: 7.1537 - accuracy: 0.0482 - top_5_categorical_accuracy: 0.1487 - top_10_categorical_accuracy: 0.2217 - val_loss: 7.0372 - val_accuracy: 0.0314 - val_top_5_categorical_accuracy: 0.1744 - val_top_10_categorical_accuracy: 0.2394\n",
      "743/743 [==============================] - 861s 1s/step - loss: 6.9044 - accuracy: 0.0505 - top_5_categorical_accuracy: 0.1608 - top_10_categorical_accuracy: 0.2289 - val_loss: 6.8983 - val_accuracy: 0.0520 - val_top_5_categorical_accuracy: 0.1326 - val_top_10_categorical_accuracy: 0.2128\n",
      "743/743 [==============================] - 853s 1s/step - loss: 6.9019 - accuracy: 0.0431 - top_5_categorical_accuracy: 0.1510 - top_10_categorical_accuracy: 0.2224 - val_loss: 7.1862 - val_accuracy: 0.0806 - val_top_5_categorical_accuracy: 0.1314 - val_top_10_categorical_accuracy: 0.2232\n",
      "743/743 [==============================] - 854s 1s/step - loss: 6.5377 - accuracy: 0.0719 - top_5_categorical_accuracy: 0.1729 - top_10_categorical_accuracy: 0.2458 - val_loss: 6.9230 - val_accuracy: 0.0708 - val_top_5_categorical_accuracy: 0.1538 - val_top_10_categorical_accuracy: 0.2226\n",
      "743/743 [==============================] - 840s 1s/step - loss: 6.5627 - accuracy: 0.0701 - top_5_categorical_accuracy: 0.1785 - top_10_categorical_accuracy: 0.2520 - val_loss: 6.5578 - val_accuracy: 0.0850 - val_top_5_categorical_accuracy: 0.1930 - val_top_10_categorical_accuracy: 0.2816\n",
      "743/743 [==============================] - 848s 1s/step - loss: 6.9055 - accuracy: 0.0620 - top_5_categorical_accuracy: 0.1685 - top_10_categorical_accuracy: 0.2367 - val_loss: 6.9387 - val_accuracy: 0.0734 - val_top_5_categorical_accuracy: 0.1560 - val_top_10_categorical_accuracy: 0.2132\n",
      "743/743 [==============================] - 859s 1s/step - loss: 6.8197 - accuracy: 0.0545 - top_5_categorical_accuracy: 0.1687 - top_10_categorical_accuracy: 0.2349 - val_loss: 6.7638 - val_accuracy: 0.0394 - val_top_5_categorical_accuracy: 0.1610 - val_top_10_categorical_accuracy: 0.2320\n",
      "743/743 [==============================] - 863s 1s/step - loss: 6.8290 - accuracy: 0.0459 - top_5_categorical_accuracy: 0.1587 - top_10_categorical_accuracy: 0.2271 - val_loss: 7.2011 - val_accuracy: 0.0096 - val_top_5_categorical_accuracy: 0.1584 - val_top_10_categorical_accuracy: 0.2142\n",
      "743/743 [==============================] - 848s 1s/step - loss: 6.4256 - accuracy: 0.0743 - top_5_categorical_accuracy: 0.1828 - top_10_categorical_accuracy: 0.2538 - val_loss: 6.7559 - val_accuracy: 0.0676 - val_top_5_categorical_accuracy: 0.1634 - val_top_10_categorical_accuracy: 0.2510\n",
      "743/743 [==============================] - 849s 1s/step - loss: 6.4101 - accuracy: 0.0757 - top_5_categorical_accuracy: 0.1916 - top_10_categorical_accuracy: 0.2658 - val_loss: 6.3213 - val_accuracy: 0.0938 - val_top_5_categorical_accuracy: 0.2218 - val_top_10_categorical_accuracy: 0.2938\n",
      "743/743 [==============================] - 872s 1s/step - loss: 6.7300 - accuracy: 0.0695 - top_5_categorical_accuracy: 0.1801 - top_10_categorical_accuracy: 0.2509 - val_loss: 6.6916 - val_accuracy: 0.0850 - val_top_5_categorical_accuracy: 0.1802 - val_top_10_categorical_accuracy: 0.2728\n"
     ]
    }
   ],
   "source": [
    "# for i in range(1,6):\n",
    "#     for j in range(1,6):\n",
    "#         # Train Model\n",
    "#         x_train, x_val, y_train, y_val = load_data(j)\n",
    "#         history = model.fit(x_train, y_train, validation_data=(x_val, y_val), batch_size=128, epochs=1, shuffle=True).history\n",
    "#         save_history(str(i)+\".\"+str(j),history)\n",
    "#     save_model(i,model)"
   ]
  }
 ],
 "metadata": {
  "kernelspec": {
   "display_name": "Python 3 (ipykernel)",
   "language": "python",
   "name": "python3"
  },
  "language_info": {
   "codemirror_mode": {
    "name": "ipython",
    "version": 3
   },
   "file_extension": ".py",
   "mimetype": "text/x-python",
   "name": "python",
   "nbconvert_exporter": "python",
   "pygments_lexer": "ipython3",
   "version": "3.10.9"
  }
 },
 "nbformat": 4,
 "nbformat_minor": 5
}
