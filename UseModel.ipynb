{
 "cells": [
  {
   "cell_type": "code",
   "execution_count": 1,
   "id": "ce1127dc-8a3a-483f-8345-96f6f05efa91",
   "metadata": {},
   "outputs": [],
   "source": [
    "import random\n",
    "import pickle\n",
    "\n",
    "import numpy as np\n",
    "import pandas as pd\n",
    "from nltk.tokenize import RegexpTokenizer\n",
    "\n",
    "import tensorflow as tf\n",
    "from tensorflow import keras\n",
    "from tensorflow.keras.models import Sequential, load_model\n",
    "from tensorflow.keras.layers import LSTM, Dense, Activation\n",
    "from tensorflow.keras.optimizers import RMSprop"
   ]
  },
  {
   "cell_type": "code",
   "execution_count": 2,
   "id": "9c36dc31-4d15-433f-8580-62dd5b0d2c59",
   "metadata": {},
   "outputs": [],
   "source": [
    "# Metrics\n",
    "def top_5_categorical_accuracy(y_true, y_pred):\n",
    "    return keras.metrics.top_k_categorical_accuracy(y_true, y_pred, k=5)\n",
    "def top_10_categorical_accuracy(y_true, y_pred):\n",
    "    return keras.metrics.top_k_categorical_accuracy(y_true, y_pred, k=10)\n",
    "# Registriere die benutzerdefinierten Metrikfunktionen\n",
    "custom_objects = {'top_5_categorical_accuracy': top_5_categorical_accuracy,\n",
    "                  'top_10_categorical_accuracy': top_10_categorical_accuracy}\n",
    "keras.backend.clear_session()\n",
    "# load model\n",
    "with tf.keras.utils.custom_object_scope(custom_objects):\n",
    "    model = load_model('FinalModel/Model5.5.h5')\n",
    "    \n",
    "with open('FormatedData/100000Packs/MetaData/context_words.pickle', 'rb') as file:\n",
    "    context_words = pickle.load(file)\n",
    "with open('FormatedData/100000Packs/MetaData/unique_tokens.pickle', 'rb') as file:\n",
    "    unique_tokens = pickle.load(file)\n",
    "with open('FormatedData/100000Packs/MetaData/unique_token_index.pickle', 'rb') as file:\n",
    "    unique_token_index = pickle.load(file)"
   ]
  },
  {
   "cell_type": "code",
   "execution_count": 3,
   "id": "a351c371-c7c2-4fef-b7a4-2c8b9e427d42",
   "metadata": {},
   "outputs": [],
   "source": [
    "def predict_next_word(input_text, n_best):\n",
    "    input_text = input_text.lower()\n",
    "    X = np.zeros((1, context_words, len(unique_tokens)))\n",
    "    for i, word in enumerate(input_text.split()):\n",
    "        X[0, i, unique_token_index[word]] = 1\n",
    "                             \n",
    "    predictions = model.predict(X,verbose=0)[0]\n",
    "    return np.argpartition(predictions, -n_best)[-n_best:]"
   ]
  },
  {
   "cell_type": "code",
   "execution_count": 4,
   "id": "edb4fbb5-adc8-4825-8fcb-e4d2b2a94aaa",
   "metadata": {},
   "outputs": [
    {
     "name": "stdout",
     "output_type": "stream",
     "text": [
      "['the', 'very', 'so', 'a', 'not']\n"
     ]
    }
   ],
   "source": [
    "possible = predict_next_word(\"Once Upon a time there was a man who was\",5)\n",
    "print([unique_tokens[idx] for idx in possible])"
   ]
  },
  {
   "cell_type": "code",
   "execution_count": 5,
   "id": "faebba75-4ca0-45cf-9df8-cbc95952624a",
   "metadata": {},
   "outputs": [],
   "source": [
    "tokenizer = RegexpTokenizer(r\"\\w+\")\n",
    "def generate_text(input_text, text_length, creativity=3):\n",
    "    text = input_text.split()\n",
    "    for i in range(text_length):\n",
    "        sub_sequence = \" \".join(tokenizer.tokenize(\" \".join(text).lower())[i:i+context_words])\n",
    "        try:\n",
    "            # try to guess the next word\n",
    "            choice = unique_tokens[random.choice(predict_next_word(sub_sequence, creativity))]\n",
    "        except:\n",
    "            # if the model does not know a word in sub_sequence\n",
    "            choice = random.choice(unique_tokens)\n",
    "        text.append(choice)\n",
    "    return \" \".join(text)"
   ]
  },
  {
   "cell_type": "code",
   "execution_count": 6,
   "id": "c5c8f1d9-376b-457f-964e-5a1aff1cdcdc",
   "metadata": {
    "tags": []
   },
   "outputs": [
    {
     "data": {
      "text/plain": [
       "'Once Upon a time there was a man who was the same day the stranger in his mind in his room he did not perceive him but i am the only story of it the stranger is not worth that he said he would not go away in it but it stops the little boy and he did he would go in a large garret of corn and a few seconds in front and looked in his mind in a little street he was so tired and he had not seen to his own heart she thought of his life she thought of a little girl he had not to'"
      ]
     },
     "execution_count": 6,
     "metadata": {},
     "output_type": "execute_result"
    }
   ],
   "source": [
    "generate_text(\"Once Upon a time there was a man who was\",100,5)"
   ]
  }
 ],
 "metadata": {
  "kernelspec": {
   "display_name": "Python 3 (ipykernel)",
   "language": "python",
   "name": "python3"
  },
  "language_info": {
   "codemirror_mode": {
    "name": "ipython",
    "version": 3
   },
   "file_extension": ".py",
   "mimetype": "text/x-python",
   "name": "python",
   "nbconvert_exporter": "python",
   "pygments_lexer": "ipython3",
   "version": "3.10.9"
  }
 },
 "nbformat": 4,
 "nbformat_minor": 5
}
