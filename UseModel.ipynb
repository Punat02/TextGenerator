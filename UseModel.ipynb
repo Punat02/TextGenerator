{
 "cells": [
  {
   "cell_type": "code",
   "execution_count": 7,
   "id": "ce1127dc-8a3a-483f-8345-96f6f05efa91",
   "metadata": {},
   "outputs": [],
   "source": [
    "import random\n",
    "import pickle\n",
    "\n",
    "import numpy as np\n",
    "import pandas as pd\n",
    "from nltk.tokenize import RegexpTokenizer\n",
    "\n",
    "from tensorflow.keras.models import Sequential, load_model\n",
    "from tensorflow.keras.layers import LSTM, Dense, Activation\n",
    "from tensorflow.keras.optimizers import RMSprop"
   ]
  },
  {
   "cell_type": "code",
   "execution_count": 8,
   "id": "9c36dc31-4d15-433f-8580-62dd5b0d2c59",
   "metadata": {},
   "outputs": [],
   "source": [
    "# Load Data\n",
    "model = load_model(\"model1000000w.tf\")\n",
    "    \n",
    "with open('MetaData/context_words.pickle', 'rb') as file:\n",
    "    context_words = pickle.load(file)\n",
    "with open('MetaData/unique_tokens.pickle', 'rb') as file:\n",
    "    unique_tokens = pickle.load(file)\n",
    "with open('MetaData/unique_token_index.pickle', 'rb') as file:\n",
    "    unique_token_index = pickle.load(file)"
   ]
  },
  {
   "cell_type": "code",
   "execution_count": 9,
   "id": "a351c371-c7c2-4fef-b7a4-2c8b9e427d42",
   "metadata": {},
   "outputs": [],
   "source": [
    "def predict_next_word(input_text, n_best):\n",
    "    input_text = input_text.lower()\n",
    "    X = np.zeros((1, context_words, len(unique_tokens)))\n",
    "    for i, word in enumerate(input_text.split()):\n",
    "        X[0, i, unique_token_index[word]] = 1\n",
    "                             \n",
    "    predictions = model.predict(X,verbose=0)[0]\n",
    "    return np.argpartition(predictions, -n_best)[-n_best:]"
   ]
  },
  {
   "cell_type": "code",
   "execution_count": 10,
   "id": "edb4fbb5-adc8-4825-8fcb-e4d2b2a94aaa",
   "metadata": {},
   "outputs": [
    {
     "name": "stdout",
     "output_type": "stream",
     "text": [
      "['run', 'near', 'still', 'river', 'coming']\n"
     ]
    }
   ],
   "source": [
    "possible = predict_next_word(\"Once Upon a time there was a man who was\",5)\n",
    "print([unique_tokens[idx] for idx in possible])"
   ]
  },
  {
   "cell_type": "code",
   "execution_count": 11,
   "id": "faebba75-4ca0-45cf-9df8-cbc95952624a",
   "metadata": {},
   "outputs": [],
   "source": [
    "tokenizer = RegexpTokenizer(r\"\\w+\")\n",
    "def generate_text(input_text, text_length, creativity=3):\n",
    "    word_sequence = input_text.split()\n",
    "    current = 0\n",
    "    for _ in range(text_length):\n",
    "        sub_sequence = \" \".join(tokenizer.tokenize(\" \".join(word_sequence).lower())[current:current+context_words])\n",
    "        try:\n",
    "            choice = unique_tokens[random.choice(predict_next_word(sub_sequence, creativity))]\n",
    "        except:\n",
    "            choice = random.choice(unique_tokens)\n",
    "        word_sequence.append(choice)\n",
    "        current += 1\n",
    "    return \" \".join(word_sequence)"
   ]
  },
  {
   "cell_type": "code",
   "execution_count": 12,
   "id": "c5c8f1d9-376b-457f-964e-5a1aff1cdcdc",
   "metadata": {
    "tags": []
   },
   "outputs": [
    {
     "data": {
      "text/plain": [
       "'Once Upon a time there was a man who was coming there with a long plain and often medicine get all winter and they had no hope for anything we ll reached book his strength and he was sure that he ll not live said tilly as he got out i am going to my table i ve been reached without a sheep in texas the five and four others for its red smile nor shoulders the ear they familiar on twenty hours of the desire going to enjoy the shepherd got up with her ears are present and be this fact yet i never hear mean you hear polly'"
      ]
     },
     "execution_count": 12,
     "metadata": {},
     "output_type": "execute_result"
    }
   ],
   "source": [
    "generate_text(\"Once Upon a time there was a man who was\",100,1)"
   ]
  },
  {
   "cell_type": "code",
   "execution_count": null,
   "id": "6394ac2b-0902-440e-8dfc-239ebd0a08d9",
   "metadata": {},
   "outputs": [],
   "source": []
  }
 ],
 "metadata": {
  "kernelspec": {
   "display_name": "Python 3 (ipykernel)",
   "language": "python",
   "name": "python3"
  },
  "language_info": {
   "codemirror_mode": {
    "name": "ipython",
    "version": 3
   },
   "file_extension": ".py",
   "mimetype": "text/x-python",
   "name": "python",
   "nbconvert_exporter": "python",
   "pygments_lexer": "ipython3",
   "version": "3.10.9"
  }
 },
 "nbformat": 4,
 "nbformat_minor": 5
}
