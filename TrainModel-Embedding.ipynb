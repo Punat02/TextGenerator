{
 "cells": [
  {
   "cell_type": "code",
   "execution_count": 1,
   "id": "3746ec74-e095-4110-a01c-ada9310e3833",
   "metadata": {},
   "outputs": [],
   "source": [
    "import random\n",
    "import pickle\n",
    "\n",
    "import numpy as np\n",
    "import pandas as pd\n",
    "from nltk.tokenize import RegexpTokenizer\n",
    "\n",
    "from tensorflow.keras.models import Sequential, load_model\n",
    "from tensorflow.keras.layers import Embedding, LSTM, Dense, Activation\n",
    "from tensorflow.keras.optimizers import RMSprop"
   ]
  },
  {
   "cell_type": "code",
   "execution_count": 2,
   "id": "f579ee80-e50d-480a-aca1-ba7c5431843e",
   "metadata": {},
   "outputs": [],
   "source": [
    "text4000 = pd.read_csv(\".//Data/4000/4000-stories-VAD.csv\")"
   ]
  },
  {
   "cell_type": "code",
   "execution_count": 3,
   "id": "2e483472-608e-4253-98a0-17dd12409c5d",
   "metadata": {
    "tags": []
   },
   "outputs": [],
   "source": [
    "texts= list(text4000.story.values)"
   ]
  },
  {
   "cell_type": "code",
   "execution_count": 4,
   "id": "f6799780-03cd-4c57-a3e1-9a42eda64f95",
   "metadata": {
    "tags": []
   },
   "outputs": [],
   "source": [
    "# text_limiter=1000000 #10000 zeichen\n",
    "joined_text = \" \".join(texts)\n",
    "# limited_text = joined_text[:text_limiter]"
   ]
  },
  {
   "cell_type": "code",
   "execution_count": 5,
   "id": "e38ca8a0-a997-48a0-a2d5-1cb467d1aa1b",
   "metadata": {},
   "outputs": [],
   "source": [
    "# Tokenizer erstellen und Texte darauf anwenden\n",
    "tokenizer = RegexpTokenizer(r\"\\w+\")\n",
    "tokens = tokenizer.tokenize(joined_text.lower())"
   ]
  },
  {
   "cell_type": "code",
   "execution_count": 6,
   "id": "6c540333-3dd5-4554-9e3c-ac86c9e56f47",
   "metadata": {},
   "outputs": [
    {
     "data": {
      "text/plain": [
       "100000"
      ]
     },
     "execution_count": 6,
     "metadata": {},
     "output_type": "execute_result"
    }
   ],
   "source": [
    "context_words = 10\n",
    "input_words = []\n",
    "next_words = []\n",
    "words_limiter=100000 #limitiert die anzahl an Trainingsdaten\n",
    "for i in range(len(tokens) - context_words):\n",
    "    input_words.append(tokens[i:i + context_words])\n",
    "    next_words.append(tokens[i + context_words])\n",
    "    if(len(next_words)>=words_limiter):break\n",
    "len(next_words)"
   ]
  },
  {
   "cell_type": "code",
   "execution_count": 7,
   "id": "13800c4b-9fce-4720-81e3-56d3afbf4853",
   "metadata": {},
   "outputs": [
    {
     "name": "stdout",
     "output_type": "stream",
     "text": [
      "['keyboard', 'and', 'very', 'large', 'sized', 'dogs', 'shall', 'romp', 'through', 'every']\n",
      "page\n"
     ]
    }
   ],
   "source": [
    "abc=100\n",
    "print(input_words[abc])\n",
    "print(next_words[abc])"
   ]
  },
  {
   "cell_type": "code",
   "execution_count": 8,
   "id": "a7eceeaa-0c1e-4bcd-aaf6-e87136390ad0",
   "metadata": {
    "tags": []
   },
   "outputs": [],
   "source": [
    "input_tokens = [token for sublist in input_words for token in sublist]\n",
    "unique_tokens = np.unique(np.concatenate((input_tokens, next_words))) #alle Token 108282 || in 50000 Token sind 7359 unique\n",
    "unique_token_index = {token: idx for idx, token in enumerate(unique_tokens)}"
   ]
  },
  {
   "cell_type": "code",
   "execution_count": 9,
   "id": "89130dd6-2574-406c-b26c-6990aafc27a4",
   "metadata": {},
   "outputs": [
    {
     "data": {
      "text/plain": [
       "9803"
      ]
     },
     "execution_count": 9,
     "metadata": {},
     "output_type": "execute_result"
    }
   ],
   "source": [
    "len(unique_tokens)"
   ]
  },
  {
   "cell_type": "code",
   "execution_count": 10,
   "id": "efdf27fe-683e-4971-9e9b-1c48a1f84983",
   "metadata": {},
   "outputs": [],
   "source": [
    "X = np.zeros((len(input_words), context_words, len(unique_tokens)), dtype=bool)\n",
    "Y = np.zeros((len(next_words), len(unique_tokens)), dtype=bool)"
   ]
  },
  {
   "cell_type": "code",
   "execution_count": 11,
   "id": "96fec496-140e-44a3-a136-9fc354ac43f8",
   "metadata": {},
   "outputs": [],
   "source": [
    "for i, words in enumerate(input_words):\n",
    "    for j, word in enumerate(words):\n",
    "        X[i,j, unique_token_index[word]] = 1\n",
    "    Y[i, unique_token_index[next_words[i]]] = 1"
   ]
  },
  {
   "cell_type": "code",
   "execution_count": 12,
   "id": "b057b310-235e-45a0-b65e-f3b5e5085056",
   "metadata": {},
   "outputs": [],
   "source": [
    "# import itertools\n",
    "\n",
    "# train_words = input_words\n",
    "# train_words.append(next_words)\n",
    "# joined_train_words=\" \".join(list(itertools.chain.from_iterable(train_words)))"
   ]
  },
  {
   "cell_type": "code",
   "execution_count": 18,
   "id": "f5409fe3-274c-451c-8d71-a75c61032dfe",
   "metadata": {},
   "outputs": [
    {
     "name": "stdout",
     "output_type": "stream",
     "text": [
      "9804\n"
     ]
    }
   ],
   "source": [
    "from tensorflow.keras.preprocessing.text import Tokenizer\n",
    "\n",
    "text = \" \".join(tokens[:100000])\n",
    "\n",
    "tokenizer = Tokenizer()\n",
    "tokenizer.fit_on_texts([text])\n",
    "\n",
    "word_index = tokenizer.word_index\n",
    "total_unique_words = len(tokenizer.word_index) + 1   \n",
    "print(total_unique_words)"
   ]
  },
  {
   "cell_type": "code",
   "execution_count": 21,
   "id": "72f8791b-7f68-4a5e-b134-6f085385a3f9",
   "metadata": {},
   "outputs": [
    {
     "name": "stdout",
     "output_type": "stream",
     "text": [
      "Input Sequences:\n",
      "[10, 51, 13, 73, 29, 52, 269, 1846, 73, 29]\n",
      "Next Sequences:\n",
      "[526]\n"
     ]
    }
   ],
   "source": [
    "input_sequences = tokenizer.texts_to_sequences(input_words)\n",
    "next_sequences = tokenizer.texts_to_sequences(next_words)\n",
    "\n",
    "print(\"Input Sequences:\")\n",
    "print(input_sequences[1])  # Beispiel für die Umwandlung des zweiten input_words\n",
    "\n",
    "print(\"Next Sequences:\")\n",
    "print(next_sequences[1])  # Beispiel für die Umwandlung des zweiten target_word\n"
   ]
  },
  {
   "cell_type": "code",
   "execution_count": 22,
   "id": "6a8f51ee-c97b-4338-97f7-fe0b075b48d3",
   "metadata": {},
   "outputs": [],
   "source": [
    "embedding_dim = 100  # Dimension der GloVe-Vektoren\n",
    "embeddings_index = {}  # Dictionary für die GloVe-Vektoren\n",
    "\n",
    "# Laden der GloVe-Daten\n",
    "path = 'glove.6B/glove.6B.100d.txt'\n",
    "with open(path, encoding='utf-8') as f:\n",
    "    for line in f:\n",
    "        values = line.split()\n",
    "        word = values[0]\n",
    "        coeffs = np.array(values[1:], dtype=np.float32)\n",
    "        embeddings_index[word] = coeffs\n",
    "\n",
    "# Erstellen der embeddings_matrix\n",
    "# num_words = min(words_limiter, len(unique_tokens))  # Anzahl der eindeutigen Tokens, die verwendet werden\n",
    "# embeddings_matrix = np.zeros((num_words, embedding_dim))  # Initialisierung der Matrix mit Nullen\n",
    "\n",
    "# for word, i in unique_token_index.items():\n",
    "#     if i >= words_limiter:\n",
    "#         continue  # Nur die ersten words_limiter eindeutigen Tokens verwenden\n",
    "\n",
    "#     embedding_vector = embeddings_index.get(word)\n",
    "#     if embedding_vector is not None:\n",
    "#         embeddings_matrix[i] = embedding_vector\n",
    "#     else:\n",
    "#         # Wenn das Wort nicht in den GloVe-Vektoren vorhanden ist, wird es mit zufälligen Werten initialisiert\n",
    "#         embeddings_matrix[i] = np.random.uniform(-0.25, 0.25, embedding_dim)\n",
    "embeddings_matrix = np.zeros((total_unique_words, 100))\n",
    "for word, i in word_index.items():\n",
    "   embedding_vector = embeddings_index.get(word)\n",
    "   if embedding_vector is not None:\n",
    "     embeddings_matrix[i] = embedding_vector;\n"
   ]
  },
  {
   "cell_type": "code",
   "execution_count": 23,
   "id": "3245a7eb-e5ed-4c0f-9396-279e282c4173",
   "metadata": {},
   "outputs": [],
   "source": [
    "# input_shape=(context_words, len(unique_tokens))"
   ]
  },
  {
   "cell_type": "code",
   "execution_count": 35,
   "id": "6ae18241-c607-4bd2-80a3-3ff04cb4c531",
   "metadata": {},
   "outputs": [],
   "source": [
    "model = Sequential()\n",
    "model.add(Embedding(input_dim = total_unique_words, output_dim=100, weights=[embeddings_matrix], input_length=10, trainable=False))\n",
    "model.add(LSTM(128, recurrent_dropout=0.5, dropout=0.5,return_sequences=True))\n",
    "model.add(LSTM(128, recurrent_dropout=0.5, dropout=0.5))\n",
    "model.add(Dense(total_unique_words, activation=\"softmax\"))"
   ]
  },
  {
   "cell_type": "code",
   "execution_count": null,
   "id": "02f79ec8-d850-4310-93e6-c70f6df57670",
   "metadata": {},
   "outputs": [],
   "source": [
    "print(\"Form der Eingabedaten (X):\", X.shape)\n",
    "print(\"Form der Ausgabedaten (Y):\", Y.shape)"
   ]
  },
  {
   "cell_type": "code",
   "execution_count": 32,
   "id": "a1c9bd1c-dd97-46c0-af61-65745ea76d2c",
   "metadata": {
    "tags": []
   },
   "outputs": [
    {
     "ename": "ValueError",
     "evalue": "in user code:\n\n    File \"D:\\Programme\\Anaconda\\lib\\site-packages\\keras\\engine\\training.py\", line 1284, in train_function  *\n        return step_function(self, iterator)\n    File \"D:\\Programme\\Anaconda\\lib\\site-packages\\keras\\engine\\training.py\", line 1268, in step_function  **\n        outputs = model.distribute_strategy.run(run_step, args=(data,))\n    File \"D:\\Programme\\Anaconda\\lib\\site-packages\\keras\\engine\\training.py\", line 1249, in run_step  **\n        outputs = model.train_step(data)\n    File \"D:\\Programme\\Anaconda\\lib\\site-packages\\keras\\engine\\training.py\", line 1051, in train_step\n        loss = self.compute_loss(x, y, y_pred, sample_weight)\n    File \"D:\\Programme\\Anaconda\\lib\\site-packages\\keras\\engine\\training.py\", line 1109, in compute_loss\n        return self.compiled_loss(\n    File \"D:\\Programme\\Anaconda\\lib\\site-packages\\keras\\engine\\compile_utils.py\", line 265, in __call__\n        loss_value = loss_obj(y_t, y_p, sample_weight=sw)\n    File \"D:\\Programme\\Anaconda\\lib\\site-packages\\keras\\losses.py\", line 142, in __call__\n        losses = call_fn(y_true, y_pred)\n    File \"D:\\Programme\\Anaconda\\lib\\site-packages\\keras\\losses.py\", line 268, in call  **\n        return ag_fn(y_true, y_pred, **self._fn_kwargs)\n    File \"D:\\Programme\\Anaconda\\lib\\site-packages\\keras\\losses.py\", line 1984, in categorical_crossentropy\n        return backend.categorical_crossentropy(\n    File \"D:\\Programme\\Anaconda\\lib\\site-packages\\keras\\backend.py\", line 5559, in categorical_crossentropy\n        target.shape.assert_is_compatible_with(output.shape)\n\n    ValueError: Shapes (None, 1) and (None, 9803) are incompatible\n",
     "output_type": "error",
     "traceback": [
      "\u001b[1;31m---------------------------------------------------------------------------\u001b[0m",
      "\u001b[1;31mValueError\u001b[0m                                Traceback (most recent call last)",
      "Cell \u001b[1;32mIn[32], line 6\u001b[0m\n\u001b[0;32m      3\u001b[0m y_train, y_val \u001b[38;5;241m=\u001b[39m next_sequences[:split_index], next_sequences[split_index:]\n\u001b[0;32m      5\u001b[0m model\u001b[38;5;241m.\u001b[39mcompile(loss\u001b[38;5;241m=\u001b[39m\u001b[38;5;124m'\u001b[39m\u001b[38;5;124mcategorical_crossentropy\u001b[39m\u001b[38;5;124m'\u001b[39m, optimizer\u001b[38;5;241m=\u001b[39mRMSprop(learning_rate\u001b[38;5;241m=\u001b[39m\u001b[38;5;241m0.01\u001b[39m), metrics\u001b[38;5;241m=\u001b[39m[\u001b[38;5;124m'\u001b[39m\u001b[38;5;124maccuracy\u001b[39m\u001b[38;5;124m'\u001b[39m])\n\u001b[1;32m----> 6\u001b[0m history \u001b[38;5;241m=\u001b[39m \u001b[43mmodel\u001b[49m\u001b[38;5;241;43m.\u001b[39;49m\u001b[43mfit\u001b[49m\u001b[43m(\u001b[49m\u001b[43mx_train\u001b[49m\u001b[43m,\u001b[49m\u001b[43m \u001b[49m\u001b[43my_train\u001b[49m\u001b[43m,\u001b[49m\u001b[43m \u001b[49m\u001b[43mvalidation_data\u001b[49m\u001b[38;5;241;43m=\u001b[39;49m\u001b[43m(\u001b[49m\u001b[43mx_val\u001b[49m\u001b[43m,\u001b[49m\u001b[43m \u001b[49m\u001b[43my_val\u001b[49m\u001b[43m)\u001b[49m\u001b[43m,\u001b[49m\u001b[43m \u001b[49m\u001b[43mbatch_size\u001b[49m\u001b[38;5;241;43m=\u001b[39;49m\u001b[38;5;241;43m128\u001b[39;49m\u001b[43m,\u001b[49m\u001b[43m \u001b[49m\u001b[43mepochs\u001b[49m\u001b[38;5;241;43m=\u001b[39;49m\u001b[38;5;241;43m1\u001b[39;49m\u001b[43m,\u001b[49m\u001b[43m \u001b[49m\u001b[43mshuffle\u001b[49m\u001b[38;5;241;43m=\u001b[39;49m\u001b[38;5;28;43;01mTrue\u001b[39;49;00m\u001b[43m)\u001b[49m\u001b[38;5;241m.\u001b[39mhistory\n",
      "File \u001b[1;32mD:\\Programme\\Anaconda\\lib\\site-packages\\keras\\utils\\traceback_utils.py:70\u001b[0m, in \u001b[0;36mfilter_traceback.<locals>.error_handler\u001b[1;34m(*args, **kwargs)\u001b[0m\n\u001b[0;32m     67\u001b[0m     filtered_tb \u001b[38;5;241m=\u001b[39m _process_traceback_frames(e\u001b[38;5;241m.\u001b[39m__traceback__)\n\u001b[0;32m     68\u001b[0m     \u001b[38;5;66;03m# To get the full stack trace, call:\u001b[39;00m\n\u001b[0;32m     69\u001b[0m     \u001b[38;5;66;03m# `tf.debugging.disable_traceback_filtering()`\u001b[39;00m\n\u001b[1;32m---> 70\u001b[0m     \u001b[38;5;28;01mraise\u001b[39;00m e\u001b[38;5;241m.\u001b[39mwith_traceback(filtered_tb) \u001b[38;5;28;01mfrom\u001b[39;00m \u001b[38;5;28mNone\u001b[39m\n\u001b[0;32m     71\u001b[0m \u001b[38;5;28;01mfinally\u001b[39;00m:\n\u001b[0;32m     72\u001b[0m     \u001b[38;5;28;01mdel\u001b[39;00m filtered_tb\n",
      "File \u001b[1;32m~\\AppData\\Local\\Temp\\__autograph_generated_file4pqiqgc4.py:15\u001b[0m, in \u001b[0;36mouter_factory.<locals>.inner_factory.<locals>.tf__train_function\u001b[1;34m(iterator)\u001b[0m\n\u001b[0;32m     13\u001b[0m \u001b[38;5;28;01mtry\u001b[39;00m:\n\u001b[0;32m     14\u001b[0m     do_return \u001b[38;5;241m=\u001b[39m \u001b[38;5;28;01mTrue\u001b[39;00m\n\u001b[1;32m---> 15\u001b[0m     retval_ \u001b[38;5;241m=\u001b[39m ag__\u001b[38;5;241m.\u001b[39mconverted_call(ag__\u001b[38;5;241m.\u001b[39mld(step_function), (ag__\u001b[38;5;241m.\u001b[39mld(\u001b[38;5;28mself\u001b[39m), ag__\u001b[38;5;241m.\u001b[39mld(iterator)), \u001b[38;5;28;01mNone\u001b[39;00m, fscope)\n\u001b[0;32m     16\u001b[0m \u001b[38;5;28;01mexcept\u001b[39;00m:\n\u001b[0;32m     17\u001b[0m     do_return \u001b[38;5;241m=\u001b[39m \u001b[38;5;28;01mFalse\u001b[39;00m\n",
      "\u001b[1;31mValueError\u001b[0m: in user code:\n\n    File \"D:\\Programme\\Anaconda\\lib\\site-packages\\keras\\engine\\training.py\", line 1284, in train_function  *\n        return step_function(self, iterator)\n    File \"D:\\Programme\\Anaconda\\lib\\site-packages\\keras\\engine\\training.py\", line 1268, in step_function  **\n        outputs = model.distribute_strategy.run(run_step, args=(data,))\n    File \"D:\\Programme\\Anaconda\\lib\\site-packages\\keras\\engine\\training.py\", line 1249, in run_step  **\n        outputs = model.train_step(data)\n    File \"D:\\Programme\\Anaconda\\lib\\site-packages\\keras\\engine\\training.py\", line 1051, in train_step\n        loss = self.compute_loss(x, y, y_pred, sample_weight)\n    File \"D:\\Programme\\Anaconda\\lib\\site-packages\\keras\\engine\\training.py\", line 1109, in compute_loss\n        return self.compiled_loss(\n    File \"D:\\Programme\\Anaconda\\lib\\site-packages\\keras\\engine\\compile_utils.py\", line 265, in __call__\n        loss_value = loss_obj(y_t, y_p, sample_weight=sw)\n    File \"D:\\Programme\\Anaconda\\lib\\site-packages\\keras\\losses.py\", line 142, in __call__\n        losses = call_fn(y_true, y_pred)\n    File \"D:\\Programme\\Anaconda\\lib\\site-packages\\keras\\losses.py\", line 268, in call  **\n        return ag_fn(y_true, y_pred, **self._fn_kwargs)\n    File \"D:\\Programme\\Anaconda\\lib\\site-packages\\keras\\losses.py\", line 1984, in categorical_crossentropy\n        return backend.categorical_crossentropy(\n    File \"D:\\Programme\\Anaconda\\lib\\site-packages\\keras\\backend.py\", line 5559, in categorical_crossentropy\n        target.shape.assert_is_compatible_with(output.shape)\n\n    ValueError: Shapes (None, 1) and (None, 9803) are incompatible\n"
     ]
    }
   ],
   "source": [
    "split_index = int(len(input_sequences) * 0.95)\n",
    "x_train, x_val = input_sequences[:split_index], input_sequences[split_index:]\n",
    "y_train, y_val = next_sequences[:split_index], next_sequences[split_index:]\n",
    "\n",
    "model.compile(loss='categorical_crossentropy', optimizer=RMSprop(learning_rate=0.01), metrics=['accuracy'])\n",
    "history = model.fit(x_train, y_train, validation_data=(x_val, y_val), batch_size=128, epochs=1, shuffle=True).history"
   ]
  },
  {
   "cell_type": "code",
   "execution_count": null,
   "id": "b01d550b-00e0-4090-8983-3bc77ce10df6",
   "metadata": {
    "tags": []
   },
   "outputs": [],
   "source": [
    "model.save('Model2/Model.h5')\n",
    "pickle.dump(history, open(\"Model2/history.p\", \"wb\"))"
   ]
  },
  {
   "cell_type": "code",
   "execution_count": null,
   "id": "ed818ffe-3f77-4906-8229-addd068cf9e1",
   "metadata": {
    "tags": []
   },
   "outputs": [],
   "source": [
    "with open('Model2/MetaData/context_words.pickle', 'wb') as file:\n",
    "    pickle.dump(context_words, file)\n",
    "with open('Model2/MetaData/unique_tokens.pickle', 'wb') as file:\n",
    "    pickle.dump(unique_tokens, file)\n",
    "with open('Model2/MetaData/unique_token_index.pickle', 'wb') as file:\n",
    "    pickle.dump(unique_token_index, file)   "
   ]
  },
  {
   "cell_type": "code",
   "execution_count": null,
   "id": "fa049064-95b9-4e1b-b574-7de2c48a2fcf",
   "metadata": {},
   "outputs": [],
   "source": [
    "from matplotlib import pyplot as plt\n",
    "model = load_model('Model2/Model.h5')\n",
    "history = pickle.load(open(\"Model2/history.p\", \"rb\"))\n",
    "\n",
    "plt.plot(history['accuracy'])\n",
    "plt.plot(history['val_accuracy'])\n",
    "plt.title('model accuracy')\n",
    "plt.ylabel('accuracy')\n",
    "plt.xlabel('epoch')\n",
    "plt.legend(['train', 'val'], loc='upper left') "
   ]
  },
  {
   "cell_type": "code",
   "execution_count": null,
   "id": "86d5d02f-a194-482a-a248-e3c4067d54c7",
   "metadata": {},
   "outputs": [],
   "source": [
    "plt.plot(history['loss'])\n",
    "plt.plot(history['val_loss'])\n",
    "plt.title('Model loss')\n",
    "plt.ylabel('loss')\n",
    "plt.xlabel('epoch')\n",
    "plt.legend(['train', 'val'], loc='upper left')"
   ]
  }
 ],
 "metadata": {
  "kernelspec": {
   "display_name": "Python 3 (ipykernel)",
   "language": "python",
   "name": "python3"
  },
  "language_info": {
   "codemirror_mode": {
    "name": "ipython",
    "version": 3
   },
   "file_extension": ".py",
   "mimetype": "text/x-python",
   "name": "python",
   "nbconvert_exporter": "python",
   "pygments_lexer": "ipython3",
   "version": "3.10.9"
  }
 },
 "nbformat": 4,
 "nbformat_minor": 5
}
