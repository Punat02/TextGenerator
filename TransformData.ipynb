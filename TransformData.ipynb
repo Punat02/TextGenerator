{
 "cells": [
  {
   "cell_type": "code",
   "execution_count": 1,
   "id": "3746ec74-e095-4110-a01c-ada9310e3833",
   "metadata": {},
   "outputs": [],
   "source": [
    "import random\n",
    "import pickle\n",
    "\n",
    "import numpy as np\n",
    "import pandas as pd\n",
    "from nltk.tokenize import RegexpTokenizer\n",
    "\n",
    "from tensorflow.keras.models import Sequential, load_model\n",
    "from tensorflow.keras.layers import LSTM, Dense, Activation\n",
    "from tensorflow.keras.optimizers import RMSprop"
   ]
  },
  {
   "cell_type": "code",
   "execution_count": 2,
   "id": "f579ee80-e50d-480a-aca1-ba7c5431843e",
   "metadata": {},
   "outputs": [],
   "source": [
    "text4000 = pd.read_csv(\".//Data/4000/4000-stories-VAD.csv\")"
   ]
  },
  {
   "cell_type": "code",
   "execution_count": 3,
   "id": "a5182c73-f231-48e8-b151-24dc2a1286e3",
   "metadata": {},
   "outputs": [
    {
     "data": {
      "text/html": [
       "<div>\n",
       "<style scoped>\n",
       "    .dataframe tbody tr th:only-of-type {\n",
       "        vertical-align: middle;\n",
       "    }\n",
       "\n",
       "    .dataframe tbody tr th {\n",
       "        vertical-align: top;\n",
       "    }\n",
       "\n",
       "    .dataframe thead th {\n",
       "        text-align: right;\n",
       "    }\n",
       "</style>\n",
       "<table border=\"1\" class=\"dataframe\">\n",
       "  <thead>\n",
       "    <tr style=\"text-align: right;\">\n",
       "      <th></th>\n",
       "      <th>url</th>\n",
       "      <th>length</th>\n",
       "      <th>title</th>\n",
       "      <th>text_no</th>\n",
       "      <th>author</th>\n",
       "      <th>story</th>\n",
       "      <th>valence</th>\n",
       "      <th>arousal</th>\n",
       "      <th>dominance</th>\n",
       "      <th>text_id</th>\n",
       "      <th>...</th>\n",
       "      <th>290</th>\n",
       "      <th>291</th>\n",
       "      <th>292</th>\n",
       "      <th>293</th>\n",
       "      <th>294</th>\n",
       "      <th>295</th>\n",
       "      <th>296</th>\n",
       "      <th>297</th>\n",
       "      <th>298</th>\n",
       "      <th>299</th>\n",
       "    </tr>\n",
       "  </thead>\n",
       "  <tbody>\n",
       "    <tr>\n",
       "      <th>0</th>\n",
       "      <td>https://americanliterature.com/author/eleanor-...</td>\n",
       "      <td>15044</td>\n",
       "      <td>Peace on Earth, Good-Will to Dogs</td>\n",
       "      <td>0</td>\n",
       "      <td>Eleanor Hallowell Abbott</td>\n",
       "      <td>PART I\\n\\nIf you don't like Christmas stories,...</td>\n",
       "      <td>0.592896</td>\n",
       "      <td>0.397839</td>\n",
       "      <td>0.569567</td>\n",
       "      <td>0_eleanor-hallowell-abbott-peace-on-earth-good...</td>\n",
       "      <td>...</td>\n",
       "      <td>3.793141</td>\n",
       "      <td>3.837345</td>\n",
       "      <td>3.778354</td>\n",
       "      <td>-0.815515</td>\n",
       "      <td>-0.72044</td>\n",
       "      <td>-10.738245</td>\n",
       "      <td>-8.765683</td>\n",
       "      <td>0.875089</td>\n",
       "      <td>-10.176691</td>\n",
       "      <td>1.736791</td>\n",
       "    </tr>\n",
       "  </tbody>\n",
       "</table>\n",
       "<p>1 rows × 317 columns</p>\n",
       "</div>"
      ],
      "text/plain": [
       "                                                 url  length  \\\n",
       "0  https://americanliterature.com/author/eleanor-...   15044   \n",
       "\n",
       "                               title  text_no                    author  \\\n",
       "0  Peace on Earth, Good-Will to Dogs        0  Eleanor Hallowell Abbott   \n",
       "\n",
       "                                               story   valence   arousal  \\\n",
       "0  PART I\\n\\nIf you don't like Christmas stories,...  0.592896  0.397839   \n",
       "\n",
       "   dominance                                            text_id  ...  \\\n",
       "0   0.569567  0_eleanor-hallowell-abbott-peace-on-earth-good...  ...   \n",
       "\n",
       "        290       291       292       293      294        295       296  \\\n",
       "0  3.793141  3.837345  3.778354 -0.815515 -0.72044 -10.738245 -8.765683   \n",
       "\n",
       "        297        298       299  \n",
       "0  0.875089 -10.176691  1.736791  \n",
       "\n",
       "[1 rows x 317 columns]"
      ]
     },
     "execution_count": 3,
     "metadata": {},
     "output_type": "execute_result"
    }
   ],
   "source": [
    "text4000.head(1)"
   ]
  },
  {
   "cell_type": "code",
   "execution_count": 4,
   "id": "5a6bae71-6f25-44f2-9ec2-18bc9e98d859",
   "metadata": {},
   "outputs": [
    {
     "data": {
      "text/plain": [
       "Index(['url', 'length', 'title', 'text_no', 'author', 'story', 'valence',\n",
       "       'arousal', 'dominance', 'text_id',\n",
       "       ...\n",
       "       '290', '291', '292', '293', '294', '295', '296', '297', '298', '299'],\n",
       "      dtype='object', length=317)"
      ]
     },
     "execution_count": 4,
     "metadata": {},
     "output_type": "execute_result"
    }
   ],
   "source": [
    "text4000.keys()"
   ]
  },
  {
   "cell_type": "code",
   "execution_count": 5,
   "id": "2e483472-608e-4253-98a0-17dd12409c5d",
   "metadata": {
    "collapsed": true,
    "jupyter": {
     "outputs_hidden": true
    },
    "tags": []
   },
   "outputs": [
    {
     "data": {
      "text/plain": [
       "'His affair that night was prosy. He was intending the murder of an old Spanish woman around the corner, on the Bowery, whom he had known for years, with whom he had always exchanged courteous greetings, and whom he neither liked nor disliked.\\n\\nHe did kill her; and she knew that he was going to the minute he came into her stuffy, smelly shop, looming tall and bland, and yellow, and unearthly Chinese from behind the shapeless bundles of second-hand goods that cluttered the doorway. He wished her good evening in tones that were silvery, but seemed tainted by something unnatural. She was uncertain what it was, and this very uncertainty increased her horror. She felt her hair rise as if drawn by a shivery wind.\\n\\nAt the very last she caught a glimmer of the truth in his narrow-lidded, purple-black eyes. But it was too late.\\n\\nThe lean, curved knife was in his hand and across her scraggy throat—there was a choked gurgle, a crimson line broadening to a crimson smear, a thudding fall—and that was the end of the affair as far as she was concerned.\\n\\n――――\\n\\nA minute later Nag Hong Fah walked over to the other end of Pell Street and entered a liquor-store which belonged to the Chin Sor Company, and was known as the “Place of Sweet Desire and Heavenly Entertainment.” It was the gathering-place for the Chinese-born members of the Nag family, and there he occupied a seat of honor because of his wealth and charity and stout rectitude.\\n\\nHe talked for about half an hour with the other members of his clan, sipping fragrant, sun-dried Formosa tea mixed with jessamine-flowers, until he had made for himself a bullet-proof alibi.\\n\\nThe alibi held.\\n\\nFor he is still at liberty. He is often heard to speak with regret—nor is it hypocritical regret—about the murder of Señora Garcia, the old Spanish woman who kept the shop around the corner. He is a good customer of her nephew, Carlos, who succeeded to her business. Nor does he trade there to atone, in a manner, for the red deed of his hands, but because the goods are cheap.\\n\\nHe regrets nothing. To regret, you must find sin in your heart, while the murder of Señora Garcia meant no sin to him. It was to him a simple action, respectable, even worthy.\\n\\nFor he was a Chinaman, and, although it all happened between the chocolate-brown of the Hudson and the murky, cloudy gray of the North River, the tale is of the Orient. There is about it an atmosphere of age-green bronze; of first-chop chandoo and spicy aloe-wood; of gilt, carved statues brought out of India when Confucius was young; of faded embroideries, musty with the scent of the dead centuries. An atmosphere which is very sweet, very gentle—and very unhuman.\\n\\nThe Elevated roars above. The bluecoat shuffles his flat feet on the greasy asphalt below. But still the tale is of China—and the dramatic climax, in a Chinaman’s story, from a Chinaman’s slightly twisted angle, differs from that of an American.\\n\\nTo Nag Hong Fah this climax came not with the murder of Señora Garcia, but with Fanny Mei Hi’s laugh as she saw him with the shimmering bauble in his hands and heard his appraisal thereof.\\n\\n――――\\n\\nShe was his wife, married to him honorably and truly, with a narrow gold band and a clergyman and a bouquet of wired roses bought cheaply from an itinerant Greek vendor, and handfuls of rice thrown by facetious and drunken members of both the yellow race and the white.\\n\\nOf course, at the time of his marriage, a good many people around Pell Street whispered and gossiped. They spoke of the curling black smoke and slavery and other gorgeously, romantically wicked things. Miss Edith Rutter, the social settlement investigator, spoke of—and to—the police.\\n\\nWhereas Nag Hong Fah, who had both dignity and a sense of humor, invited them all to his house: gossipers, whisperers, Miss Edith Rutter, and Detective Bill Devoy of the Second Branch, and bade them look to their hearts’ content; and whereas they found no opium, no sliding panels, and hidden cupboards, no dread Mongol mysteries, but a neat little steam-heated flat, furnished by Grand Rapids via Fourteenth Street, German porcelain, a case of blond Milwaukee beer, a five-pound humidor of shredded Kentucky burlap tobacco, a victrola, and a fine, big Bible with brass clamp and edges and M. Doré’s illustrations.\\n\\n“Call again,” he said as they were trooping down the narrow stairs. “Call again any time you please. Glad to have you—aren’t we, kid?” chucking his wife under the chin.\\n\\n“You bet yer life, you fat old yellow sweetness!” agreed Fanny; and then—as a special barbed shaft leveled at Miss Rutter’s retreating back: “Say! Any time yer wanta lamp my wedding certificate—it’s hangin’ between the fottygraphs of the President and the Big Boss—all framed up swell!”\\n\\n――――\\n\\nHe had met her first one evening in a Bowery saloon, where she was introduced to him by Mr. Brian Neill, the owner of the saloon, a gentleman from out the County Armagh, who had spattered and muddied his proverbial Irish chastity in the slime of the Bowery gutters, and who called himself her uncle.\\n\\nThis latter statement had to be taken with a grain of salt. For Fanny Mei Hi was not Irish. Her hair was golden, her eyes blue. But otherwise she was Chinese. Easily nine-tenths of her. Of course she denied it. But that is neither here nor there.\\n\\nShe was not a lady. Couldn’t be—don’t you see—with that mixed blood in her veins, Mr. Brian Neill acting as her uncle, and the standing pools of East Side vice about her.\\n\\nBut Nag Hong Fah, who was a poet and a philosopher, besides being the proprietor of the Great Shanghai Chop Suey Palace, said that she looked like a golden-haired goddess of evil, familiar with all the seven sins. And he added—this to the soothsayer of his clan, Nag Hop Fat—that he did not mind her having seven, nor seventeen, nor seven times seventeen bundles of sin, as long as she kept them in the sacred bosom of the Nag family.\\n\\n“Yes,” said the soothsayer, throwing up a handful of painted ivory sticks and watching how they fell to see if the omens were favorable. “Purity is a jewel to the silly young. And you are old, honorable cousin—”\\n\\n“Indeed,” chimed in Nag Hong Fah, “I am old and fat and sluggish and extremely wise. What price is there in purity higher than there is contained in the happiness and contentment of a respectable citizen when he sees men-children playing gently about his knees?”\\n\\nHe smiled when his younger brother, Nag Sen Yat, the opium merchant, spoke to him of a certain Yung Quai.\\n\\n“Yung Quai is beautiful,” said the opium merchant, “and young—and of an honorable clan—and—”\\n\\n“And childless! And in San Francisco! And divorced from me!”\\n\\n“But there is her older brother, Yung Long, the head of the Yung clan. He is powerful and rich—the richest man in Pell Street! He would consider this new marriage of yours a disgrace to his face. Chiefly since the woman is a foreigner!”\\n\\n“She is not. Only her hair and her eyes are foreign.”\\n\\n“Where hair and eyes lead, the call of the blood follows,” rejoined Nag Sen Yat, and he reiterated his warning about Yung Long.\\n\\nBut the other shook his head.\\n\\n“Do not give wings to trouble. It flies swiftly without them,” he quoted. “Too, the soothsayer read in the painted sticks that Fanny Mei Hi will bear me sons. One—perhaps two. Afterward, if indeed it be so that the drop of barbarian blood has clouded the clear mirror of her Chinese soul, I can always take back into my household the beautiful and honorable Yung Quai, whom I divorced and sent to California because she is childless. She will then adopt the sons which the other woman will bear me—and everything will be extremely satisfactory.”\\n\\nAnd so he put on his best American suit, called on Fanny, and proposed to her with a great deal of dignity and elaborate phrases.\\n\\n――――\\n\\n“Sure I’ll marry you,” said Fanny. “Sure! I’d rather be the wife of the fattest, yellowest Chink in New York than live the sorta life I’m livin’—see, Chinkie-Toodles?”\\n\\n“Chinkie-Toodles” smiled. He looked her over approvingly. He said to himself that doubtless the painted sticks had spoken the truth, that she would bear him men-children. His own mother had been a river-girl, purchased during a drought for a handful of parched grain; and had died in the odor of sanctity, with nineteen Buddhist priests following her gaily lacquered coffin, wagging their shaven polls ceremoniously, and mumbling flattering and appropriate verses from “Chin-Kong-Ching.”\\n\\nFanny, on the other hand, though wickedly and lyingly insisting on her pure white blood, knew that a Chinaman is broad-minded and free-handed, that he makes a good husband, and beats his wife rather less often than a white man of the corresponding scale of society.\\n\\nOf course, gutter-bred, she was aggressively insistent upon her rights.\\n\\n“Chinkie-Toodles,” she said the day before the wedding, and the gleam in her eyes gave point to the words, “I’m square—see? An’ I’m goin’ to travel square. Maybe I haven’t always been a poifec’ lady, but I ain’t goin’ to bilk yer, get me? But—” She looked up, and suddenly, had Nag Hong Fah known it, the arrogance, the clamorings, and the tragedy of her mixed blood were in the words that followed: “I gotta have a dose of freedom. I’m an American—I’m white—say!”—seeing the smile which he hid rapidly behind his fat hand—“yer needn’t laugh. I am white, an’ not a painted Chinese doll. No sittin’ up an’ mopin’ for the retoin of my fat, yellow lord an’ master in a stuffy, stinky, punky five-by-four cage for me! In other woids, I resoive for my little golden-haired self the freedom of asphalt an’ electric lights, see? An’ I’ll play square—as long as you’ll play square,” she added under her breath.\\n\\n“Sure,” he said. “You are free. Why not? I am an American. Have a drink?” And they sealed the bargain in a tumbler of Chinese rice whisky, cut with Bourbon, and flavored with aniseed and powdered ginger.\\n\\n――――\\n\\nThe evening following the wedding, husband and wife, instead of a honeymoon trip, went on an alcoholic spree amid the newly varnished splendors of their Pell Street flat. Side by side, in spite of the biting December cold, they leaned from the open window and brayed an intoxicated pæan at the Elevated structure which pointed at the stars like a gigantic icicle stood on end, frozen, austere—desolate, for all its clank and rattle, amid the fragrant, warm reek of China which drifted from shutters and cellar-gratings.\\n\\nNag Hong Fah, seeing Yung Long crossing the street, thought with drunken sentimentality of Yung Long’s sister whom he had divorced because she had borne him no children, and extended a boisterous invitation to come up.\\n\\n“Come! Have a drink!” he hiccuped.\\n\\nYung Long stopped, looked, and refused courteously, but not before he had leveled a slow, appraising glance at the golden-haired Mei Hi, who was shouting by the side of her obese lord. Yung Long was not a bad-looking man, standing there in the flickering light of the street-lamp, the black shadows cutting the pale-yellow, silky sheen of his narrow, powerful face as clean as with a knife.\\n\\n“Swell looker, that Chink!” commented Fanny Mei Hi as Yung Long walked away; and her husband, the liquor warming his heart into generosity, agreed:\\n\\n“Sure! Swell looker! Lots of money! Let’s have another drink!”\\n\\nArrived at the sixth tumbler, Nag Hong Fah, the poet in his soul released by alcohol, took his blushing bride upon his knee and improvised a neat Cantonese love-ditty; but when Fanny awakened the next morning with the sobering suspicion that she had tied herself for life to a drunkard, she found out that her suspicion was unfounded.\\n\\nThe whisky spree had only been an appropriate celebration in honor of the man-child on whom Nag Hong Fah had set his heart; and it was because of this unborn son and the unborn son’s future that her husband rose from his tumbled couch, bland, fat, without headache or heartache, left the flat, and bargained for an hour with Yung Long, who was a wholesale grocer, with warehouses in Canton, Manila, New York, San Francisco, Seattle, and Vancouver, British Columbia.\\n\\n――――\\n\\nNot a word was said about either Yung Quai or Fanny. The talk dealt entirely with canned bamboo sprouts and preserved leeches, and pickled star-fruit, and brittle almond cakes. It was only after the price had been decided upon and duly sealed with the right phrases and palm touching palm—afterwards, though nothing in writing had passed, neither party could recede from the bargain without losing face—that Yung Long remarked, very casually:\\n\\n“By the way, the terms are cash—spot cash,” and he smiled.\\n\\nFor he knew that the restaurant proprietor was an audacious merchant who relied on long credits and future profits, and to whom in the past he had always granted ninety days’ leeway without question or special agreement.\\n\\nNag Hong Fah smiled in his turn; a slow, thin, enigmatic smile.\\n\\n“I brought the cash with me,” he replied, pulling a wad of greenbacks from his pocket, and both gentlemen looked at each other with a great deal of mutual respect.\\n\\n“Forty-seven dollars and thirty-three cents saved on the first business of my married life,” Nag Hong Fah said to his assembled clan that night at the Place of Sweet Desire and Heavenly Entertainment. “Ah, I shall have a fine, large business to leave to the man-child which my wife shall bear me!”\\n\\n――――\\n\\nAnd the man-child came—golden-haired, blue-eyed, yellow-skinned, and named Brian in honor of Fanny’s apocryphal uncle who owned the Bowery saloon. For the christening Nag Hong Fah sent out special invitations—pink cards lettered with virulent magenta and bordered with green forget-me-nots and purple roses; with an advertisement of the Great Shanghai Chop Suey Palace on the reverse side. He also bestowed upon his wife a precious bracelet of cloudy white jade, earrings of green jade cunningly inlaid with blue feathers, a chest of carved Tibetan soapstone, a bottle of French perfume, a pound of Mandarin blossom tea for which he paid seventeen dollars wholesale, a set of red Chinese sables, and a new Caruso record for the victrola.\\n\\nFanny liked the last two best; chiefly the furs, which she wore through the whirling heat of an August day, as soon as she was strong enough to leave her couch, on an expedition to her native pavements. For she held fast to her proclaimed right that hers was the freedom of asphalt and electric light—not to mention the back parlor of her uncle’s saloon, with its dingy, musty walls covered with advertisements of eminent Kentucky distilleries and the indelible traces of many generations of flies, with its gangrened tables, its battered cuspidors, its commingling atmosphere of poverty and sloth, of dust and stale beer, of cheese sandwiches, wet weeds, and cold cigars.\\n\\n“Getta hell outa here!” she admonished a red-powdered bricklayer who came staggering across the threshold of the back parlor and was trying to encircle her waist with amatory intent. “I’m a respectable married woman—see?” And then to Miss Ryan, the side-kick of her former riotous spinster days, who was sitting at a corner table dipping her pretty little up-turned nose into a foaming schooner: “Take my tip, Mamie, an’ marry a Chink! That’s the life, believe me!”\\n\\nMamie shrugged her shoulders.\\n\\n“All right for you, Fan, I guess,” she replied. “But not for me. Y’see—ye’re mostly Chink yerself—”\\n\\n“I ain’t! I ain’t! I’m white—wottya mean callin’ me a Chink?” And then, seeing signs of contrition on her friend’s face: “Never mind. Chinkie-Toodles is good enough for me. He treats me white, all right, all right!”\\n\\n――――\\n\\nNor was this an overstatement of the actual facts.\\n\\nNag Hong Fah was good to her. He was happy in the realization of his fatherhood, advertised every night by lusty cries which reverberated through the narrow, rickety Pell Street house to find an echo across the street in the liquor-store of the Chin Sor Company, where the members of his clan predicted a shining future for father and son.\\n\\nThe former was prospering. The responsibilities of fatherhood had brought an added zest and tang to his keen, bartering Mongol brain. Where before he had squeezed the dollar, he was now squeezing the cent. He had many a hard tussle with the rich Yung Long over the price of tea and rice and other staples, and never did either one of them mention the name of Yung Quai, nor that of the woman who had supplanted Yung Quai in the restaurant-keeper’s affections.\\n\\nFanny was honest. She traveled the straight and narrow, as she put it to herself. “Nor ain’t it any strain on my feet,” she confided to Miss Ryan. For she was happy and contented. Life, after all, had been good to her, had brought her prosperity and satisfaction at the hands of a fat Chinaman, at the end of her fantastic, twisted, unclean youth; and there were moments when, in spite of herself, she felt herself drawn into the surge of that Mongol race which had given her nine-tenths of her blood—a fact which formerly she had been in the habit of denying vigorously.\\n\\nShe laughed her happiness through the spiced, warm mazes of Chinatown, her first-born cuddled to her breast, ready to be friends with everybody.\\n\\nIt was thus that Yung Long would see her walking down Pell Street as he sat in the carved window-seat of his store, smoking his crimson-tassled pipe, a wandering ray of sun dancing through the window, breaking into prismatic colors, and wreathing his pale, serene face with opal vapors.\\n\\nHe never failed to wave his hand in courtly greeting.\\n\\nShe never failed to return the civility.\\n\\nSome swell looker, that Chink. But—Gawd!—she was square, all right, all right!\\n\\n――――\\n\\nA year later, after Nag Hong Fah, in expectation of the happy event, had acquired an option on a restaurant farther up-town, so that the second son might not be slighted in favor of Brian, who was to inherit the Great Shanghai Chop Suey Palace, Fanny sent another little cross-breed into the reek and riot of the Pell Street world. But when Nag Hong Fah came home that night, the nurse told him that the second-born was a girl—something to be entered on the debit, not the credit, side of the family ledger.\\n\\nIt was then that a change came into the marital relations of Mr. and Mrs. Nag Hong Fah.\\n\\nNot that the former disliked the baby daughter, called Fanny, after the mother. Far from it. He loved her with a sort of slow, passive love, and he could be seen on an afternoon rocking the wee bundle in his stout arms and whispering to her crooning Cantonese fairy-lilts: all about the god of small children whose face is a candied plum, so that the babes like to hug and kiss him and, of course, lick his face with their little pink tongues.\\n\\nBut this time there was no christening, no gorgeous magenta-lettered invitations sent to the chosen, no happy prophecies about the future.\\n\\nThis time there were no precious presents of green jade and white jade heaped on the couch of the young mother.\\n\\nShe noticed it. But she did not complain. She said to herself that her husband’s new enterprise was swallowing all his cash; and one night she asked him how the new restaurant was progressing.\\n\\n“What new restaurant?” he asked blandly.\\n\\n“The one up-town, Toodles—for the baby—”\\n\\nNag Hong Fah laughed carelessly.\\n\\n“Oh—I gave up that option. Didn’t lose much.”\\n\\nFanny sat up straight, clutching little Fanny to her.\\n\\n“You—you gave it up?” she asked. “Wottya mean—gave it up?”\\n\\nThen suddenly inspired by some whisper of suspicion, her voice leaping up extraordinarily strong: “You mean you gave it up—because—because little Fanny is—a goil?”\\n\\nHe agreed with a smiling nod.\\n\\n“To be sure! A girl is fit only to bear children and clean the household pots.”\\n\\nHe said it without any brutality, without any conscious male superiority; simply as a statement of fact. A melancholy fact, doubtless. But a fact, unchangeable, stony.\\n\\n“But—but—” Fanny’s gutter flow of words floundered in the eddy of her amazement, her hurt pride and vanity. “I’m a woman myself—an’ I—”\\n\\n“Assuredly you are a woman and you have done your duty. You have borne me a son. Perhaps, if the omens be favorable you will bear me yet another. But this—this girl—” He dismissed little Fanny with a wave of his pudgy, dimpled hand as a regrettable accident, and continued, soothingly: “She will be taken care of. Already I have written to friends of our clan in San Francisco to arrange for a suitable disposal when the baby has reached the right age.” He said it in his mellow, precise English. He had learned it at a night-school, where he had been the pride and honor of his class.\\n\\nFanny had risen. She left her couch. With a swish-swish of knitted bed-slippers she loomed up on the ring of faint light shed by the swinging petroleum lamp in the center of the room. She approached her husband, the baby held close to her heart with her left hand, her right hand aimed at Nag Hong Fah’s solid chest like a pistol. Her deep-set, violet-blue eyes seemed to pierce through him.\\n\\nBut the Chinese blood in her veins—shrewd, patient—scotched the violence of her American passion, her American sense of loudly clamoring for right and justice and fairness. She controlled herself. The accusing hand relaxed and fell gently on the man’s shoulder. She was fighting for her daughter, fighting for the drop of white blood in her veins, and it would not do to lose her temper.\\n\\n“Looka here, Chinkie-Toodles,” she said. “You call yerself a Christian, don’t yer? A Christian an’ an American. Well, have a heart. An’ some sense! This ain’t China, Toodles. Lil Fanny ain’t goin’ to be weighed an’ sold to some rich brother Chink at so many seeds per pound. Not much! She’s gonna be eddycated. She’s gonna have her chance, see? She’s gonna be independent of the male beast an’ the sorta life wot the male beast likes to hand to a skoit. Believe me, Toodles, I know what I’m talkin’ about!”\\n\\nBut he shook his stubborn head. “All has been settled,” he replied. “Most satisfactorily settled!”\\n\\nHe turned to go. But she rushed up to him. She clutched his sleeve.\\n\\n“Yer—yer don’t mean it? Yer can’t mean it!” she stammered.\\n\\n“I do, fool!” He made a slight, weary gesture as if brushing away the incomprehensible. “You are a woman—you do not understand—”\\n\\n“Don’t I, though!”\\n\\nShe spoke through her teeth. Her words clicked and broke like dropping icicles. Swiftly her passion turned into stone, and as swiftly back again, leaping out in a great, spattering stream of abuse.\\n\\n“Yer damned, yellow, stinkin’ Chink! Yer—yer—Wottya mean—makin’ me bear children—yer own children—an’ then—” Little Fanny was beginning to howl lustily and she covered her face with kisses. “Say, kiddie, it’s a helluva dad you’ve drawn! A helluva dad! Look at him—standin’ there! Greasy an’ yellow an’— Say—he’s willin’ to sell yer into slavery to some other beast of a Chink! Say—”\\n\\n“You are a—ah—a Chink yourself, fool!”\\n\\n“I ain’t! I’m white—an’ square—an’ decent—an’—”\\n\\n“Ah!”\\n\\nHe lit a cigarette and smiled placidly, and suddenly she knew that it would be impossible to argue, to plead with him. Might as well plead with some sardonic, deaf immensity, without nerves, without heart. And then, womanlike, the greater wrong disappeared in the lesser.\\n\\n“Ye’re right. I’m part Chink myself—an’ damned sorry for myself because of it! An’ that’s why I know why yer gave me no presents when lil Fanny was born. Because she’s a girl! As if that was my fault, yer fat, sneerin’ slob, yer! Yah! That’s why yer gave me no presents—I know! I know what it means when a Chink don’t give no presents to his wife when she gives boith to a child! Make me lose face—that’s wottya call it, ain’t it? An’ I thought fer a while yer was savin’ up the ducats to give lil Fanny a start in life!\\n\\n“Well, yer got another guess comin’! Yer gonna do wot I tell yer, see? Yer gonna open up that there new restaurant up-town, an’ yer gonna give me presents! A bracelet, that’s what I want! None o’ yer measly Chink jade, either; but the real thing, get me? Gold an’ diamonds, see?” and she was still talking as he, unmoved, silent, smiling, left the room and went down the creaking stairs to find solace in the spiced cups of the Palace of Sweet Desire and Heavenly Entertainment.\\n\\nShe rushed up to the window and threw it wide. She leaned far out, her hair framing her face like a glorious, disordered aureole, her loose robe slipping from her gleaming shoulders, her violet eyes blazing fire and hatred.\\n\\nShe shouted at his fat, receding back:\\n\\n“A bracelet, that’s what I want! That’s what I’m gonna get, see? Gold an’ diamonds! Gold an’ diamonds, yer yellow pig, yer!”\\n\\nIt was at that moment that Yung Long passed her house. He heard, looked up, and greeted her courteously, as was his wont. But this time he did not go straight on his way. He looked at her for several seconds, taking in the soft lines of her neck and shoulders, the small, pale oval of her face with the crimson of her broad, generous mouth, the white flash of her small, even teeth, and the blue, sombre orbit of her eyes. With the light of the lamp shining in back, a breeze rushing in front past the open window, the wide sleeves of her dressing-gown fluttered like immense, rosy butterfly-wings.\\n\\nInstinctively she returned his gaze. Instinctively, straight through her rage and heartache, the old thought came to her mind:\\n\\nSwell looker—that Chink!\\n\\nAnd then, without realizing what she was doing, her lips had formed the thought into words:\\n\\n“Swell looker!”\\n\\nShe said it in a headlong and vehement whisper that drifted down, through the whirling reek of Pell Street—sharp, sibilant, like a message.\\n\\nYung Long smiled, raised his neat bowler hat, and went on his way.\\n\\n――――\\n\\nNight after night Fanny returned to the attack, cajoling, caressing, threatening, cursing.\\n\\n“Listen here, Chinkie-Toodles—”\\n\\nBut she might as well have tried to argue with the sphinx for all the impression she made on her eternally smiling lord. He would drop his amorphous body into a comfortable rocker, moving it up and down with the tips of his felt-slippered feet, a cigarette hanging loosely from the right corner of his coarse, sagging lips, a cup of lukewarm rice whisky convenient to his elbow, and watch her as he might the gyrations of an exotic beetle whose wings had been burned off. She amused him. But after a while continuous repetition palled the amusement into monotony, and, correctly Chinese, he decided to make a formal complaint to Brian O’Neill, the Bowery saloon-keeper, who called himself her uncle.\\n\\nLife, to that prodigal of Erin, was a rather sunny arrangement of small conveniences and small, pleasant vices. He laughed in his throat and called his “nephew” a damned, sentimental fool.\\n\\n“Beat her up!” was his calm, matter-of-fact advice. “Give her a good old hiding, an’ she’ll feed outa yer hand, me lad!”\\n\\n“I have—ah—your official permission, as head of her family?”\\n\\n“Sure. Wait. I’ll lend ye me blackthorn. She knows the taste of it.”\\n\\nNag Hong Fah took both advice and blackthorn. That night he gave Fanny a severe beating and repeated the performance every night for a week until she subsided.\\n\\nOnce more she became the model wife, and happiness returned to the stout bosom of her husband. Even Miss Rutter, the social settlement investigator, commented upon it. “Real love is a shelter of inexpugnable peace,” she said when she saw the Nag Hong Fah family walking down Pell Street, little Brian toddling on ahead, the baby cuddled in her mother’s arms.\\n\\n――――\\n\\nGenerously Nag Hong Fah overlooked his wife’s petty womanish vanities; and when she came home one afternoon, flushed, excited, exhibiting a shimmering bracelet that was encircling her wrist, “just imitation gold an’ diamonds, Chinkie-Toodles!” she explained. “Bought it outa my savings—thought yer wouldn’t mind, see? Thought it wouldn’t hurt yer none if them Chinks hereabouts think it was the real dope an’ yer gave it to me”—he smiled and took her upon his knee as of old.\\n\\n“Yes, yes,” he said, his pudgy hand fondling the intense golden gleam of her tresses. “It is all right. Perhaps—if you bear me another son—I shall give you a real bracelet, real gold, real diamonds. Meanwhile you may wear this bauble.”\\n\\nAs before she hugged jealously her proclaimed freedom of asphalt and electric lights. Nor did he raise the slightest objections. He had agreed to it at the time of their marriage and, being a righteous man, he kept to his part of the bargain with serene punctiliousness.\\n\\nBrian Neill, whom he chanced to meet one afternoon in Señora Garcia’s second-hand emporium, told him it was all right.\\n\\n“That beatin’ ye gave her didn’t do her any harm, me beloved nephew,” he said. “She’s square. God help the lad who tries to pass a bit o’ blarney to her.” He chuckled in remembrance of a Finnish sailor who had beaten a sudden and undignified retreat from the back parlor into the saloon, with a ragged scratch crimsoning his face and bitter words about the female of the species crowding his lips. “Faith, she’s square! Sits there with her little glass o’ gin an’ her auld chum, Mamie Ryan—an’ them two chews the rag by the hour—talkin’ about frocks an’ frills, I doubt not—”\\n\\nOf course, once in a while she would return home a little the worse for liquor. But Nag Hong Fah, being a Chinaman, would mantle such small shortcomings with the wide charity of his personal laxity.\\n\\n“Better a drunken wife who cooks well and washes the children and keeps her tongue between her teeth, than a sober wife who reeks with virtue and breaks the household pots,” he said to Nag Hop Fat, the soothsayer. “Better an honorable pig than a cracked rose bottle.”\\n\\n“Indeed! Better a fleet mule than a hamstrung horse,” the other wound up the pleasant round of Oriental metaphors, and he reënforced his opinion with a chosen and appropriate quotation from the “Fo-Sho-Hing-Tsan-King.”\\n\\n――――\\n\\nWhen late one night that winter, a high wind booming from the north and washing the snow-dusted Pell Street houses with its cutting blast, Fanny came home with a jag, a chill, and a hacking cough, and went down with pneumonia seven hours later, Nag Hong Fah was genuinely sorry. He turned the management of his restaurant over to his brother, Nag Sen Yat, and sat by his wife’s bed, whispering words of encouragement, bathing her feverish forehead, changing her sheets, administering medicine, doing everything with fingers as soft and deft as a woman’s.\\n\\nEven after the doctor had told him three nights later that the case was hopeless and that Fanny would die—even after, as a man of constructive and practical brain, he had excused himself for a few minutes and had sat down in the back room to write a line to Yung Quai, his divorced wife in San Francisco, bidding her hold herself in readiness and including a hundred dollars for transportation—he continued to treat Fanny Mei Hi with the utmost gentleness and patience.\\n\\nTossing on her hot pillows, she could hear him in the long watches of the night breathing faintly, clearing his throat cautiously so as not to disturb her; and on Monday morning—he had lifted her up and was holding her close to help her resist the frightful, hacking cough that was shaking her wasted frame—he told her that he had reconsidered about little Fanny.\\n\\n“You are going to die,” he said placidly, in a way, apologetically, “and it is fitting that your daughter should make proper obeisance to your departed spirit. A child’s devotion is best stimulated by gratitude. And little Fanny shall be grateful to you. For she will go to a good American school and, to pay for it, I shall sell your possessions after you are dead. The white jade bracelet, the earrings of green jade, the red sables—they will bring over four thousand dollars. Even this little bauble”—he slipped the glittering bracelet from her thin wrist—“this, too, will bring a few dollars. Ten, perhaps twelve; I know a dealer of such trifles in Mott Street who—”\\n\\n“Say!”\\n\\nHer voice cut in, raucous, challenging. She had wriggled out of his arms. An opaque glaze had come over her violet-blue eyes. Her whole body trembled. But she pulled herself on her elbows with a terrible, straining effort, refusing the support of his ready hands.\\n\\n“Say! How much did yer say this here bracelet’s worth?”\\n\\nHe smiled gently. He did not want to hurt her woman’s vanity. So he increased his first appraisal.\\n\\n“Twenty dollars,” he suggested. “Perhaps twenty-one. Do not worry. It shall be sold to the best advantage—for your little daughter—”\\n\\nAnd then, quite suddenly, Fanny burst into laughter—gurgling laughter that shook her body, choked her throat, and leaped out in a stream of blood from her tortured lungs.\\n\\n“Twenty dollars!” she cried, “Twenty-one! Say, you poor cheese, that bracelet alone’ll pay for lil Fanny’s eddycation. It’s wo'"
      ]
     },
     "execution_count": 5,
     "metadata": {},
     "output_type": "execute_result"
    }
   ],
   "source": [
    "texts= list(text4000.story.values)\n",
    "texts[2]"
   ]
  },
  {
   "cell_type": "code",
   "execution_count": 6,
   "id": "f6799780-03cd-4c57-a3e1-9a42eda64f95",
   "metadata": {
    "collapsed": true,
    "jupyter": {
     "outputs_hidden": true
    },
    "tags": []
   },
   "outputs": [
    {
     "data": {
      "text/plain": [
       "'PART I\\n\\nIf you don\\'t like Christmas stories, don\\'t read this one!\\n\\nAnd if you don\\'t like dogs I don\\'t know just what to advise you to do!\\n\\nFor I warn you perfectly frankly that I am distinctly pro-dog and distinctly pro-Christmas, and would like to bring to this little story whatever whiff of fir-balsam I can cajole from the make-believe forest in my typewriter, and every glitter of tinsel, smudge of toy candle, crackle of wrapping paper, that my particular brand of brain and ink can conjure up on a single keyboard! And very large-sized dogs shall romp through every page! And the mercury shiver perpetually in the vicinity of zero! And every foot of earth be crusty-brown and bare with no white snow at all till the very last moment when you\\'d just about given up hope! And all the heart of the story is very,—oh very young!\\n\\nFor purposes of propriety and general historical authenticity there are of course parents in the story. And one or two other oldish persons. But they all go away just as early in the narrative as I can manage it.—Are obliged to go away!\\n\\nYet lest you find in this general combination of circumstances some sinister threat of audacity, let me conventionalize the story at once by opening it at that most conventional of all conventional Christmas-story hours,—the Twilight of Christmas Eve.\\n\\nNuff said?—Christmas Eve, you remember? Twilight? Awfully cold weather? And somebody very young?\\n\\nNow for the story itself!\\n\\nAfter five blustering, wintry weeks of village speculation and gossip there was of course considerable satisfaction in being the first to solve the mysterious holiday tenancy of the Rattle-Pane House.\\n\\nBreathless with excitement Flame Nourice telephoned the news from the village post-office. From a pedestal of boxes fairly bulging with red-wheeled go-carts, one keen young elbow rammed for balance into a gay glassy shelf of stick-candy,[4] green tissue garlands tickling across her cheek, she sped the message to her mother.\\n\\n\"O Mother-Funny!\" triumphed Flame. \"I\\'ve found out who\\'s Christmasing at the Rattle-Pane House!—It\\'s a red-haired setter dog with one black ear! And he\\'s sitting at the front gate this moment! Superintending the unpacking of the furniture van! And I\\'ve named him Lopsy!\"\\n\\n\"Why, Flame; how—absurd!\" gasped her mother. In consideration of the fact that Flame\\'s mother had run all the way from the icy-footed chicken yard to answer the telephone it shows distinctly what stuff she was made of that she gasped nothing else.\\n\\nAnd that Flame herself re-telephoned within the half hour to acknowledge her[5] absurdity shows equally distinctly what stuff she was made of! It was from the summit of a crate of holly-wreaths that she telephoned this time.\\n\\n\"Oh Mother-Funny,\" apologized Flame, \"you were perfectly right. No lone dog in the world could possibly manage a great spooky place like the Rattle-Pane House. There are two other dogs with him! A great long, narrow sofa-shaped dog upholstered in lemon and white,—something terribly ferocious like \\'Russian Wolf Hound\\' I think he is! But I\\'ve named him Beautiful-Lovely! And there\\'s the neatest looking paper-white coach dog just perfectly ruined with ink-spots! Blunder-Blot, I think, will make a good name for him! And—\"\\n\\n\"Oh—Fl—ame!\" panted her Mother. \"Dogs—do—not—take houses!\" It was not from the chicken-yard that she had come running this time but only from her Husband\\'s Sermon-Writing-Room in the attic.\\n\\n\"Oh don\\'t they though?\" gloated Flame. \"Well, they\\'ve taken this one, anyway! Taken it by storm, I mean! Scratched all the green paint off the front door! Torn a hole big as a cavern in the Barberry Hedge! Pushed the sun-dial through a bulkhead!—If it snows to-night the cellar\\'ll be a Glacier! And—\"\\n\\n\"Dogs—do—not—take—houses,\" persisted Flame\\'s mother. She was still persisting it indeed when she returned to her husband\\'s study.\\n\\nHer husband, it seemed, had not noticed her absence. Still poring over the tomes and commentaries incidental to the preparation of his next Sunday\\'s sermon his fine face glowed half frown, half ecstasy, in the December twilight, while close at his elbow all unnoticed a smoking kerosine lamp went smudging its acrid path to the ceiling. Dusky lock for dusky lock, dreamy eye for dreamy eye, smoking lamp for smoking lamp, it might have been a short-haired replica of Flame herself.\\n\\n\"Oh if Flame had only been \\'set\\' like the maternal side of the house!\" reasoned Flame\\'s Mother. \"Or merely dreamy like her Father! Her Father being only dreamy could sometimes be diverted from his dreams! But to be \\'set\\' and \\'dreamy\\' both? Absolutely \\'set\\' on being absolutely \\'dreamy\\'? That was Flame!\" With renewed tenacity Flame\\'s Mother reverted to Truth as Truth. \"Dogs do not take houses!\" she affirmed with unmistakable emphasis.\\n\\n\"Eh? What?\" jumped her husband. \"Dogs? Dogs? Who said anything about dogs?\" With a fretted pucker between his brows he bent to his work again. \"You interrupted me,\" he reproached her. \"My sermon is about Hell-Fire.—I had all but smelled it.—It was very disagreeable.\" With a gesture of impatience he snatched up his notes and tore them in two. \"I think I will write about the Garden of Eden instead!\" he rallied. \"The Garden of Eden in Iris time! Florentina Alba everywhere! Whiteness! Sweetness!—Now let me see,—orris root I believe is deducted from the Florentina Alba—.\"\\n\\n\"U—m—m—m,\" sniffed Flame\\'s Mother. With an impulse purely practical she started for the kitchen. \"The season happens to be Christmas time,\" she suggested bluntly. \"Now if you could see your way to make a sermon that smelt like doughnuts and plum-pudding—\"\\n\\n\"Doughnuts?\" queried her Husband and hurried after her. Supplementing the far, remote Glory-of-God expression in his face, the glory-of-doughnuts shone suddenly very warmly.\\n\\nFlame at least did not have to be reminded about the Seasons.\\n\\n\"Oh mother!\" telephoned Flame almost at once, \"It\\'s—so much nearer Christmas than it was half an hour ago! Are you sure everything will keep? All those big packages that came yesterday? That humpy one especially? Don\\'t you think you ought to peep? Or poke? Just the teeniest, tiniest little peep or poke? It would be a shame if anything spoiled! A—turkey—or a—or a fur coat—or anything.\"\\n\\n\"I am—making doughnuts,\" confided her Mother with the faintest possible taint of asperity.\\n\\n\"O—h,\" conceded Flame. \"And Father\\'s watching them? Then I\\'ll hurry! M—Mother?\" deprecated the excited young voice. \"You are always so horridly right! Lopsy and Beautiful-Lovely and Blunder-Blot are not Christmasing all alone in the Rattle-Pane House! There is a man with them! Don\\'t tell Father,—he\\'s so nervous about men!\"\\n\\n\"A—man?\" stammered her Mother. \"Oh I hope not a young man! Where did he come from?\"\\n\\n\"Oh I don\\'t think he came at all,\" confided Flame. It was Flame who was perplexed this time. \"He looks to me more like a person who had always been there! Like something I mean that the dogs found in the attic! Quite crumpled he is! And with a red waistcoat!—A—A butler perhaps?—A—A sort of a second hand butler? Oh Mother!—I wish we had a butler!\"\\n\\n\"Flame—?\" interrupted her Mother quite abruptly. \"Where are you doing all this telephoning from? I only gave you eighteen cents and it was to buy cereal with.\"\\n\\n\"Cereal?\" considered Flame. \"Oh that\\'s all right,\" she glowed suddenly. \"I\\'ve paid cash for the telephoning and charged the cereal.\"\\n\\nWith a swallow faintly guttural Flame\\'s Mother hung up the receiver. \"Dogs—do—not—have—butlers,\" she persisted unshakenly.\\n\\nShe was perfectly right. They did not, it seemed.\\n\\nNo one was quicker than Flame to acknowledge a mistake. Before five o\\'clock Flame had added a telephone item to the cereal bill.\\n\\n\"Oh—Mother,\" questioned Flame. \"The little red sweater and Tam that I have on?—Would they be all right, do you think, for me to make a call in? Not a formal call, of course,—just a—a neighborly greeting at the door? It being Christmas Eve and everything!—And as long as I have to pass right by the house anyway?—There is a lady at the Rattle-Pane House! A—A—what Father would call a Lady Maiden!—Miss—\"\\n\\n\"Oh not a real lady, I think,\" protested her Mother. \"Not with all those dogs. No real lady I think would have so many dogs.—It—It isn\\'t sanitary.\"\\n\\n\"Isn\\'t—sanitary?\" cried Flame. \"Why Mother, they are the most absolutely—perfectly sanitary dogs you ever saw in your life!\" Into her eager young voice an expression of ineffable dignity shot suddenly. \"Well—really, Mother,\" she said, \"In whatever concerns men or crocheting—I\\'m perfectly willing to take Father\\'s advice or yours. But after all, I\\'m eighteen,\" stiffened the young voice. \"And when it comes to dogs—I must use my own judgment!\"\\n\\n\"And just what is the lady\\'s name?\" questioned her Mother a bit weakly.\\n\\n\"Her name is \\'Miss Flora\\'!\" brightened Flame. \"The Butler has just gone to the Station to meet her! I heard him telephoning quite frenziedly! I think she must have missed her train or something! It seemed to make everybody very nervous! Maybe she\\'s nervous! Maybe she\\'s a nervous invalid! With a lost Lover somewhere! And all sorts of pressed flowers!—Somebody ought to call anyway! Call right away, I mean, before she gets any more nervous!—So many people\\'s first impressions of a place—I\\'ve heard—are spoiled for lack of some perfectly silly little thing like a nutmeg grater or a hot water bottle! And oh, Mother, it\\'s been so long since any one lived in the Rattle-Pane House! Not for years and years and years! Not dogs, anyway! Not a lemon and white wolf hound! Not setters! Not spotty dogs!—Oh Mother, just one little wee single minute at the door? Just long enough to say \\'The Rev. and Mrs. Flamande Nourice, and Miss Nourice, present their compliments!\\'—And are you by any chance short a marrow-bone? Or would you possibly care to borrow an extra quilt to rug-up under the kitchen table?... Blunder-Blot doesn\\'t look very thick. Or—Oh Mother, p-l-e-a-s-e!\"\\n\\nWhen Flame said \"Please\" like that the word was no more,'"
      ]
     },
     "execution_count": 6,
     "metadata": {},
     "output_type": "execute_result"
    }
   ],
   "source": [
    "text_limiter=10000 #10000 zeichen\n",
    "joined_text = \" \".join(texts)\n",
    "limited_text = joined_text[:text_limiter]\n",
    "limited_text"
   ]
  },
  {
   "cell_type": "code",
   "execution_count": 10,
   "id": "e38ca8a0-a997-48a0-a2d5-1cb467d1aa1b",
   "metadata": {},
   "outputs": [],
   "source": [
    "# Tokenizer erstellen und Texte darauf anwenden\n",
    "tokenizer = RegexpTokenizer(r\"\\w+\")\n",
    "tokens = tokenizer.tokenize(limited_text.lower())"
   ]
  },
  {
   "cell_type": "code",
   "execution_count": 12,
   "id": "a7eceeaa-0c1e-4bcd-aaf6-e87136390ad0",
   "metadata": {
    "tags": []
   },
   "outputs": [],
   "source": [
    "unique_tokens = np.unique(tokens)\n",
    "unique_token_index = {token: idx for idx, token in enumerate(unique_tokens)}"
   ]
  },
  {
   "cell_type": "code",
   "execution_count": 15,
   "id": "6c540333-3dd5-4554-9e3c-ac86c9e56f47",
   "metadata": {},
   "outputs": [],
   "source": [
    "context_words = 10\n",
    "input_words = []\n",
    "next_words = []\n",
    "\n",
    "for i in range(len(tokens) - context_words):\n",
    "    input_words.append(tokens[i:i + context_words])\n",
    "    next_words.append(tokens[i + context_words])"
   ]
  },
  {
   "cell_type": "code",
   "execution_count": 39,
   "id": "efdf27fe-683e-4971-9e9b-1c48a1f84983",
   "metadata": {},
   "outputs": [],
   "source": [
    "X = np.zeros((len(input_words), context_words, len(unique_tokens)), dtype=bool)\n",
    "Y = np.zeros((len(next_words), len(unique_tokens)), dtype=bool)"
   ]
  },
  {
   "cell_type": "code",
   "execution_count": 40,
   "id": "96fec496-140e-44a3-a136-9fc354ac43f8",
   "metadata": {},
   "outputs": [],
   "source": [
    "for i, words in enumerate(input_words):\n",
    "    for j, word in enumerate(words):\n",
    "        X[i,j, unique_token_index[word]] = 1\n",
    "    Y[i, unique_token_index[next_words[i]]] = 1"
   ]
  },
  {
   "cell_type": "code",
   "execution_count": 48,
   "id": "6ae18241-c607-4bd2-80a3-3ff04cb4c531",
   "metadata": {},
   "outputs": [],
   "source": [
    "model = Sequential()\n",
    "model.add(LSTM(128, input_shape=(context_words, len(unique_tokens)), return_sequences=True))\n",
    "model.add(LSTM(128))\n",
    "model.add(Dense(len(unique_tokens)))\n",
    "model.add(Activation(\"softmax\"))"
   ]
  },
  {
   "cell_type": "code",
   "execution_count": 50,
   "id": "a1c9bd1c-dd97-46c0-af61-65745ea76d2c",
   "metadata": {},
   "outputs": [
    {
     "name": "stdout",
     "output_type": "stream",
     "text": [
      "Epoch 1/10\n",
      "15/15 [==============================] - 4s 45ms/step - loss: 6.2435 - accuracy: 0.0261\n",
      "Epoch 2/10\n",
      "15/15 [==============================] - 1s 45ms/step - loss: 5.9110 - accuracy: 0.0367\n",
      "Epoch 3/10\n",
      "15/15 [==============================] - 1s 46ms/step - loss: 5.8788 - accuracy: 0.0417\n",
      "Epoch 4/10\n",
      "15/15 [==============================] - 1s 45ms/step - loss: 5.8452 - accuracy: 0.0356\n",
      "Epoch 5/10\n",
      "15/15 [==============================] - 1s 44ms/step - loss: 5.8249 - accuracy: 0.0417\n",
      "Epoch 6/10\n",
      "15/15 [==============================] - 1s 45ms/step - loss: 5.7985 - accuracy: 0.0422\n",
      "Epoch 7/10\n",
      "15/15 [==============================] - 1s 46ms/step - loss: 5.7741 - accuracy: 0.0384\n",
      "Epoch 8/10\n",
      "15/15 [==============================] - 1s 46ms/step - loss: 5.7151 - accuracy: 0.0395\n",
      "Epoch 9/10\n",
      "15/15 [==============================] - 1s 45ms/step - loss: 5.6536 - accuracy: 0.0461\n",
      "Epoch 10/10\n",
      "15/15 [==============================] - 1s 46ms/step - loss: 5.4783 - accuracy: 0.0528\n"
     ]
    },
    {
     "data": {
      "text/plain": [
       "<keras.callbacks.History at 0x22a252f7ca0>"
      ]
     },
     "execution_count": 50,
     "metadata": {},
     "output_type": "execute_result"
    }
   ],
   "source": [
    "model.compile(loss=\"categorical_crossentropy\", optimizer = RMSprop(learning_rate=0.01), metrics=[\"accuracy\"])\n",
    "model.fit(X, Y, batch_size=128, epochs=10, shuffle=True)"
   ]
  },
  {
   "cell_type": "code",
   "execution_count": 51,
   "id": "b01d550b-00e0-4090-8983-3bc77ce10df6",
   "metadata": {},
   "outputs": [],
   "source": [
    "model.save(\"myFirstTestModel.h5\")"
   ]
  },
  {
   "cell_type": "code",
   "execution_count": 52,
   "id": "282baeb6-3bb9-4346-b456-252a604c751b",
   "metadata": {},
   "outputs": [],
   "source": [
    "def predict_next_word(input_text, n_best):\n",
    "    input_text = input_text.lower()\n",
    "    X = np.zeros((1, context_words, len(unique_tokens)))\n",
    "    for i, word in enumerate(input_text.split()):\n",
    "        X[0, i, unique_token_index[word]] = 1\n",
    "                             \n",
    "    predictions = model.predict(X)[0]\n",
    "    return np.argpartition(predictions, -n_best)[-n_best:]"
   ]
  },
  {
   "cell_type": "code",
   "execution_count": 59,
   "id": "27793959-3d92-4406-b740-ceab49f36c35",
   "metadata": {},
   "outputs": [
    {
     "name": "stdout",
     "output_type": "stream",
     "text": [
      "1/1 [==============================] - 0s 18ms/step\n"
     ]
    }
   ],
   "source": [
    "possible = predict_next_word(\"His that night was\",5)"
   ]
  },
  {
   "cell_type": "code",
   "execution_count": 62,
   "id": "923431bb-cf0b-46b9-871f-95ae40ba57e1",
   "metadata": {},
   "outputs": [
    {
     "name": "stdout",
     "output_type": "stream",
     "text": [
      "['of', 's', 'it', 'the', 'and']\n"
     ]
    }
   ],
   "source": [
    "print([unique_tokens[idx] for idx in possible])"
   ]
  },
  {
   "cell_type": "code",
   "execution_count": 79,
   "id": "ed818ffe-3f77-4906-8229-addd068cf9e1",
   "metadata": {},
   "outputs": [],
   "source": [
    "with open('MetaData/context_words.pickle', 'wb') as file:\n",
    "    pickle.dump(context_words, file)\n",
    "with open('MetaData/unique_tokens.pickle', 'wb') as file:\n",
    "    pickle.dump(unique_tokens, file)\n",
    "with open('MetaData/unique_token_index.pickle', 'wb') as file:\n",
    "    pickle.dump(unique_token_index, file)   "
   ]
  },
  {
   "cell_type": "code",
   "execution_count": null,
   "id": "d6bbb80a-bdea-4668-afe7-6399e791ac9d",
   "metadata": {},
   "outputs": [],
   "source": []
  }
 ],
 "metadata": {
  "kernelspec": {
   "display_name": "Python 3 (ipykernel)",
   "language": "python",
   "name": "python3"
  },
  "language_info": {
   "codemirror_mode": {
    "name": "ipython",
    "version": 3
   },
   "file_extension": ".py",
   "mimetype": "text/x-python",
   "name": "python",
   "nbconvert_exporter": "python",
   "pygments_lexer": "ipython3",
   "version": "3.10.9"
  }
 },
 "nbformat": 4,
 "nbformat_minor": 5
}
