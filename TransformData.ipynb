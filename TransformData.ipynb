{
 "cells": [
  {
   "cell_type": "code",
   "execution_count": 13,
   "id": "3746ec74-e095-4110-a01c-ada9310e3833",
   "metadata": {},
   "outputs": [],
   "source": [
    "import random\n",
    "import pickle\n",
    "\n",
    "import numpy as np\n",
    "import pandas as pd\n",
    "from nltk.tokenize import RegexpTokenizer\n",
    "\n",
    "from tensorflow.keras.models import Sequential, load_model\n",
    "from tensorflow.keras.layers import LSTM, Dense, Activation\n",
    "from tensorflow.keras.optimizers import RMSprop"
   ]
  },
  {
   "cell_type": "code",
   "execution_count": 14,
   "id": "f579ee80-e50d-480a-aca1-ba7c5431843e",
   "metadata": {},
   "outputs": [],
   "source": [
    "text4000 = pd.read_csv(\".//Data/4000/4000-stories-VAD.csv\")"
   ]
  },
  {
   "cell_type": "code",
   "execution_count": 15,
   "id": "a5182c73-f231-48e8-b151-24dc2a1286e3",
   "metadata": {},
   "outputs": [
    {
     "data": {
      "text/html": [
       "<div>\n",
       "<style scoped>\n",
       "    .dataframe tbody tr th:only-of-type {\n",
       "        vertical-align: middle;\n",
       "    }\n",
       "\n",
       "    .dataframe tbody tr th {\n",
       "        vertical-align: top;\n",
       "    }\n",
       "\n",
       "    .dataframe thead th {\n",
       "        text-align: right;\n",
       "    }\n",
       "</style>\n",
       "<table border=\"1\" class=\"dataframe\">\n",
       "  <thead>\n",
       "    <tr style=\"text-align: right;\">\n",
       "      <th></th>\n",
       "      <th>url</th>\n",
       "      <th>length</th>\n",
       "      <th>title</th>\n",
       "      <th>text_no</th>\n",
       "      <th>author</th>\n",
       "      <th>story</th>\n",
       "      <th>valence</th>\n",
       "      <th>arousal</th>\n",
       "      <th>dominance</th>\n",
       "      <th>text_id</th>\n",
       "      <th>...</th>\n",
       "      <th>290</th>\n",
       "      <th>291</th>\n",
       "      <th>292</th>\n",
       "      <th>293</th>\n",
       "      <th>294</th>\n",
       "      <th>295</th>\n",
       "      <th>296</th>\n",
       "      <th>297</th>\n",
       "      <th>298</th>\n",
       "      <th>299</th>\n",
       "    </tr>\n",
       "  </thead>\n",
       "  <tbody>\n",
       "    <tr>\n",
       "      <th>0</th>\n",
       "      <td>https://americanliterature.com/author/eleanor-...</td>\n",
       "      <td>15044</td>\n",
       "      <td>Peace on Earth, Good-Will to Dogs</td>\n",
       "      <td>0</td>\n",
       "      <td>Eleanor Hallowell Abbott</td>\n",
       "      <td>PART I\\n\\nIf you don't like Christmas stories,...</td>\n",
       "      <td>0.592896</td>\n",
       "      <td>0.397839</td>\n",
       "      <td>0.569567</td>\n",
       "      <td>0_eleanor-hallowell-abbott-peace-on-earth-good...</td>\n",
       "      <td>...</td>\n",
       "      <td>3.793141</td>\n",
       "      <td>3.837345</td>\n",
       "      <td>3.778354</td>\n",
       "      <td>-0.815515</td>\n",
       "      <td>-0.72044</td>\n",
       "      <td>-10.738245</td>\n",
       "      <td>-8.765683</td>\n",
       "      <td>0.875089</td>\n",
       "      <td>-10.176691</td>\n",
       "      <td>1.736791</td>\n",
       "    </tr>\n",
       "  </tbody>\n",
       "</table>\n",
       "<p>1 rows × 317 columns</p>\n",
       "</div>"
      ],
      "text/plain": [
       "                                                 url  length  \\\n",
       "0  https://americanliterature.com/author/eleanor-...   15044   \n",
       "\n",
       "                               title  text_no                    author  \\\n",
       "0  Peace on Earth, Good-Will to Dogs        0  Eleanor Hallowell Abbott   \n",
       "\n",
       "                                               story   valence   arousal  \\\n",
       "0  PART I\\n\\nIf you don't like Christmas stories,...  0.592896  0.397839   \n",
       "\n",
       "   dominance                                            text_id  ...  \\\n",
       "0   0.569567  0_eleanor-hallowell-abbott-peace-on-earth-good...  ...   \n",
       "\n",
       "        290       291       292       293      294        295       296  \\\n",
       "0  3.793141  3.837345  3.778354 -0.815515 -0.72044 -10.738245 -8.765683   \n",
       "\n",
       "        297        298       299  \n",
       "0  0.875089 -10.176691  1.736791  \n",
       "\n",
       "[1 rows x 317 columns]"
      ]
     },
     "execution_count": 15,
     "metadata": {},
     "output_type": "execute_result"
    }
   ],
   "source": [
    "text4000.head(1)"
   ]
  },
  {
   "cell_type": "code",
   "execution_count": 16,
   "id": "5a6bae71-6f25-44f2-9ec2-18bc9e98d859",
   "metadata": {},
   "outputs": [
    {
     "data": {
      "text/plain": [
       "Index(['url', 'length', 'title', 'text_no', 'author', 'story', 'valence',\n",
       "       'arousal', 'dominance', 'text_id',\n",
       "       ...\n",
       "       '290', '291', '292', '293', '294', '295', '296', '297', '298', '299'],\n",
       "      dtype='object', length=317)"
      ]
     },
     "execution_count": 16,
     "metadata": {},
     "output_type": "execute_result"
    }
   ],
   "source": [
    "text4000.keys()"
   ]
  },
  {
   "cell_type": "code",
   "execution_count": 17,
   "id": "2e483472-608e-4253-98a0-17dd12409c5d",
   "metadata": {
    "tags": []
   },
   "outputs": [],
   "source": [
    "texts= list(text4000.story.values)"
   ]
  },
  {
   "cell_type": "code",
   "execution_count": 18,
   "id": "f6799780-03cd-4c57-a3e1-9a42eda64f95",
   "metadata": {
    "tags": []
   },
   "outputs": [],
   "source": [
    "# text_limiter=1000000 #10000 zeichen\n",
    "joined_text = \" \".join(texts)\n",
    "# limited_text = joined_text[:text_limiter]"
   ]
  },
  {
   "cell_type": "code",
   "execution_count": 19,
   "id": "e38ca8a0-a997-48a0-a2d5-1cb467d1aa1b",
   "metadata": {},
   "outputs": [],
   "source": [
    "# Tokenizer erstellen und Texte darauf anwenden\n",
    "tokenizer = RegexpTokenizer(r\"\\w+\")\n",
    "tokens = tokenizer.tokenize(joined_text.lower())"
   ]
  },
  {
   "cell_type": "code",
   "execution_count": 20,
   "id": "6c540333-3dd5-4554-9e3c-ac86c9e56f47",
   "metadata": {},
   "outputs": [
    {
     "data": {
      "text/plain": [
       "100000"
      ]
     },
     "execution_count": 20,
     "metadata": {},
     "output_type": "execute_result"
    }
   ],
   "source": [
    "context_words = 10\n",
    "input_words = []\n",
    "next_words = []\n",
    "words_limiter=100000 #limitiert die anzahl an Trainingsdaten\n",
    "for i in range(len(tokens) - context_words):\n",
    "    input_words.append(tokens[i:i + context_words])\n",
    "    next_words.append(tokens[i + context_words])\n",
    "    if(len(next_words)>=words_limiter):break\n",
    "len(next_words)"
   ]
  },
  {
   "cell_type": "code",
   "execution_count": 21,
   "id": "13800c4b-9fce-4720-81e3-56d3afbf4853",
   "metadata": {},
   "outputs": [
    {
     "name": "stdout",
     "output_type": "stream",
     "text": [
      "['keyboard', 'and', 'very', 'large', 'sized', 'dogs', 'shall', 'romp', 'through', 'every']\n",
      "page\n"
     ]
    }
   ],
   "source": [
    "abc=100\n",
    "print(input_words[abc])\n",
    "print(next_words[abc])"
   ]
  },
  {
   "cell_type": "code",
   "execution_count": 22,
   "id": "a7eceeaa-0c1e-4bcd-aaf6-e87136390ad0",
   "metadata": {
    "tags": []
   },
   "outputs": [],
   "source": [
    "input_tokens = [token for sublist in input_words for token in sublist]\n",
    "unique_tokens = np.unique(np.concatenate((input_tokens, next_words))) #alle Token 108282 || in 50000 Token sind 7359 unique\n",
    "unique_token_index = {token: idx for idx, token in enumerate(unique_tokens)}"
   ]
  },
  {
   "cell_type": "code",
   "execution_count": 29,
   "id": "89130dd6-2574-406c-b26c-6990aafc27a4",
   "metadata": {},
   "outputs": [
    {
     "data": {
      "text/plain": [
       "9803"
      ]
     },
     "execution_count": 29,
     "metadata": {},
     "output_type": "execute_result"
    }
   ],
   "source": [
    "len(unique_tokens)"
   ]
  },
  {
   "cell_type": "code",
   "execution_count": 30,
   "id": "efdf27fe-683e-4971-9e9b-1c48a1f84983",
   "metadata": {},
   "outputs": [],
   "source": [
    "X = np.zeros((len(input_words), context_words, len(unique_tokens)), dtype=bool)\n",
    "Y = np.zeros((len(next_words), len(unique_tokens)), dtype=bool)"
   ]
  },
  {
   "cell_type": "code",
   "execution_count": 31,
   "id": "96fec496-140e-44a3-a136-9fc354ac43f8",
   "metadata": {},
   "outputs": [],
   "source": [
    "for i, words in enumerate(input_words):\n",
    "    for j, word in enumerate(words):\n",
    "        X[i,j, unique_token_index[word]] = 1\n",
    "    Y[i, unique_token_index[next_words[i]]] = 1"
   ]
  },
  {
   "cell_type": "code",
   "execution_count": 32,
   "id": "6ae18241-c607-4bd2-80a3-3ff04cb4c531",
   "metadata": {},
   "outputs": [],
   "source": [
    "model = Sequential()\n",
    "model.add(LSTM(128, input_shape=(context_words, len(unique_tokens)), return_sequences=True, recurrent_dropout=.5,  dropout=.5))\n",
    "model.add(LSTM(128, recurrent_dropout=.5, dropout=.5))\n",
    "model.add(Dense(len(unique_tokens), activation=\"softmax\"))\n",
    "# model = load_model(\"model1000000w.tf\")"
   ]
  },
  {
   "cell_type": "code",
   "execution_count": 33,
   "id": "a1c9bd1c-dd97-46c0-af61-65745ea76d2c",
   "metadata": {
    "tags": []
   },
   "outputs": [
    {
     "name": "stdout",
     "output_type": "stream",
     "text": [
      "Epoch 1/50\n",
      "743/743 [==============================] - 451s 601ms/step - loss: 6.8467 - accuracy: 0.0647 - val_loss: 6.6382 - val_accuracy: 0.0822\n",
      "Epoch 2/50\n",
      "743/743 [==============================] - 445s 599ms/step - loss: 6.6217 - accuracy: 0.0737 - val_loss: 6.4612 - val_accuracy: 0.0902\n",
      "Epoch 3/50\n",
      "743/743 [==============================] - 444s 598ms/step - loss: 6.4624 - accuracy: 0.0836 - val_loss: 6.3859 - val_accuracy: 0.0982\n",
      "Epoch 4/50\n",
      "743/743 [==============================] - 449s 604ms/step - loss: 6.3610 - accuracy: 0.0910 - val_loss: 6.3313 - val_accuracy: 0.1036\n",
      "Epoch 5/50\n",
      "743/743 [==============================] - 441s 593ms/step - loss: 6.2908 - accuracy: 0.0953 - val_loss: 6.3270 - val_accuracy: 0.0966\n",
      "Epoch 6/50\n",
      "743/743 [==============================] - 441s 594ms/step - loss: 6.2374 - accuracy: 0.0996 - val_loss: 6.2668 - val_accuracy: 0.1126\n",
      "Epoch 7/50\n",
      "743/743 [==============================] - 442s 595ms/step - loss: 6.2017 - accuracy: 0.1014 - val_loss: 6.2512 - val_accuracy: 0.1096\n",
      "Epoch 8/50\n",
      "743/743 [==============================] - 442s 594ms/step - loss: 6.1681 - accuracy: 0.1056 - val_loss: 6.2030 - val_accuracy: 0.1080\n",
      "Epoch 9/50\n",
      "743/743 [==============================] - 441s 593ms/step - loss: 6.1399 - accuracy: 0.1080 - val_loss: 6.2165 - val_accuracy: 0.1112\n",
      "Epoch 10/50\n",
      "743/743 [==============================] - 442s 595ms/step - loss: 6.1140 - accuracy: 0.1095 - val_loss: 6.1689 - val_accuracy: 0.1160\n",
      "Epoch 11/50\n",
      "743/743 [==============================] - 442s 595ms/step - loss: 6.0975 - accuracy: 0.1114 - val_loss: 6.1756 - val_accuracy: 0.1112\n",
      "Epoch 12/50\n",
      "743/743 [==============================] - 447s 601ms/step - loss: 6.0769 - accuracy: 0.1126 - val_loss: 6.1946 - val_accuracy: 0.1178\n",
      "Epoch 13/50\n",
      "743/743 [==============================] - 444s 597ms/step - loss: 6.0642 - accuracy: 0.1134 - val_loss: 6.2416 - val_accuracy: 0.1194\n",
      "Epoch 14/50\n",
      "743/743 [==============================] - 445s 599ms/step - loss: 6.0491 - accuracy: 0.1150 - val_loss: 6.1794 - val_accuracy: 0.1168\n",
      "Epoch 15/50\n",
      "743/743 [==============================] - 445s 598ms/step - loss: 6.0300 - accuracy: 0.1173 - val_loss: 6.4803 - val_accuracy: 0.1102\n",
      "Epoch 16/50\n",
      "743/743 [==============================] - 445s 599ms/step - loss: 6.0218 - accuracy: 0.1182 - val_loss: 6.4490 - val_accuracy: 0.1148\n",
      "Epoch 17/50\n",
      "743/743 [==============================] - 442s 595ms/step - loss: 6.0091 - accuracy: 0.1190 - val_loss: 6.2376 - val_accuracy: 0.1238\n",
      "Epoch 18/50\n",
      "743/743 [==============================] - 442s 595ms/step - loss: 5.9911 - accuracy: 0.1204 - val_loss: 6.1977 - val_accuracy: 0.1176\n",
      "Epoch 19/50\n",
      "743/743 [==============================] - 442s 595ms/step - loss: 5.9852 - accuracy: 0.1215 - val_loss: 6.2440 - val_accuracy: 0.1186\n",
      "Epoch 20/50\n",
      "743/743 [==============================] - 444s 598ms/step - loss: 5.9783 - accuracy: 0.1217 - val_loss: 6.2167 - val_accuracy: 0.1148\n",
      "Epoch 21/50\n",
      "743/743 [==============================] - 442s 595ms/step - loss: 5.9658 - accuracy: 0.1228 - val_loss: 6.7232 - val_accuracy: 0.1168\n",
      "Epoch 22/50\n",
      "743/743 [==============================] - 446s 600ms/step - loss: 5.9540 - accuracy: 0.1231 - val_loss: 6.2035 - val_accuracy: 0.1168\n",
      "Epoch 23/50\n",
      "743/743 [==============================] - 444s 598ms/step - loss: 5.9529 - accuracy: 0.1239 - val_loss: 6.1888 - val_accuracy: 0.1182\n",
      "Epoch 24/50\n",
      "743/743 [==============================] - 446s 600ms/step - loss: 5.9367 - accuracy: 0.1267 - val_loss: 6.2384 - val_accuracy: 0.1194\n",
      "Epoch 25/50\n",
      "743/743 [==============================] - 444s 598ms/step - loss: 5.9314 - accuracy: 0.1251 - val_loss: 6.3698 - val_accuracy: 0.1186\n",
      "Epoch 26/50\n",
      "743/743 [==============================] - 447s 602ms/step - loss: 5.9273 - accuracy: 0.1269 - val_loss: 6.3258 - val_accuracy: 0.1220\n",
      "Epoch 27/50\n",
      "743/743 [==============================] - 445s 599ms/step - loss: 5.9074 - accuracy: 0.1273 - val_loss: 6.2542 - val_accuracy: 0.1194\n",
      "Epoch 28/50\n",
      "743/743 [==============================] - 442s 595ms/step - loss: 5.9066 - accuracy: 0.1287 - val_loss: 6.2429 - val_accuracy: 0.1150\n",
      "Epoch 29/50\n",
      "743/743 [==============================] - 441s 594ms/step - loss: 5.8972 - accuracy: 0.1295 - val_loss: 6.2595 - val_accuracy: 0.1188\n",
      "Epoch 30/50\n",
      "743/743 [==============================] - 442s 594ms/step - loss: 5.8837 - accuracy: 0.1300 - val_loss: 6.2381 - val_accuracy: 0.1200\n",
      "Epoch 31/50\n",
      "743/743 [==============================] - 444s 598ms/step - loss: 5.8807 - accuracy: 0.1311 - val_loss: 6.3623 - val_accuracy: 0.1218\n",
      "Epoch 32/50\n",
      "743/743 [==============================] - 444s 597ms/step - loss: 5.8730 - accuracy: 0.1308 - val_loss: 6.3039 - val_accuracy: 0.1152\n",
      "Epoch 33/50\n",
      "743/743 [==============================] - 442s 595ms/step - loss: 5.8646 - accuracy: 0.1323 - val_loss: 6.2955 - val_accuracy: 0.1218\n",
      "Epoch 34/50\n",
      "743/743 [==============================] - 443s 596ms/step - loss: 5.8614 - accuracy: 0.1341 - val_loss: 6.3444 - val_accuracy: 0.1120\n",
      "Epoch 35/50\n",
      "743/743 [==============================] - 442s 594ms/step - loss: 5.8556 - accuracy: 0.1331 - val_loss: 6.2299 - val_accuracy: 0.1188\n",
      "Epoch 36/50\n",
      "743/743 [==============================] - 446s 600ms/step - loss: 5.8520 - accuracy: 0.1327 - val_loss: 6.2766 - val_accuracy: 0.1200\n",
      "Epoch 37/50\n",
      "743/743 [==============================] - 442s 595ms/step - loss: 5.8410 - accuracy: 0.1328 - val_loss: 6.2591 - val_accuracy: 0.1184\n",
      "Epoch 38/50\n",
      "743/743 [==============================] - 444s 598ms/step - loss: 5.8368 - accuracy: 0.1333 - val_loss: 6.3216 - val_accuracy: 0.1162\n",
      "Epoch 39/50\n",
      "743/743 [==============================] - 446s 601ms/step - loss: 5.8303 - accuracy: 0.1348 - val_loss: 6.9692 - val_accuracy: 0.1102\n",
      "Epoch 40/50\n",
      "743/743 [==============================] - 447s 602ms/step - loss: 5.8368 - accuracy: 0.1347 - val_loss: 6.6261 - val_accuracy: 0.1160\n",
      "Epoch 41/50\n",
      "743/743 [==============================] - 447s 601ms/step - loss: 5.8264 - accuracy: 0.1337 - val_loss: 6.3212 - val_accuracy: 0.1194\n",
      "Epoch 42/50\n",
      "743/743 [==============================] - 448s 603ms/step - loss: 5.8232 - accuracy: 0.1348 - val_loss: 6.4253 - val_accuracy: 0.1170\n",
      "Epoch 43/50\n",
      "743/743 [==============================] - 443s 596ms/step - loss: 5.8295 - accuracy: 0.1353 - val_loss: 6.3328 - val_accuracy: 0.1216\n",
      "Epoch 44/50\n",
      "743/743 [==============================] - 446s 600ms/step - loss: 5.8208 - accuracy: 0.1356 - val_loss: 6.5531 - val_accuracy: 0.1218\n",
      "Epoch 45/50\n",
      "743/743 [==============================] - 445s 599ms/step - loss: 5.8137 - accuracy: 0.1364 - val_loss: 6.3605 - val_accuracy: 0.1150\n",
      "Epoch 46/50\n",
      "743/743 [==============================] - 443s 596ms/step - loss: 5.8159 - accuracy: 0.1367 - val_loss: 6.3311 - val_accuracy: 0.1204\n",
      "Epoch 47/50\n",
      "743/743 [==============================] - 442s 594ms/step - loss: 5.8016 - accuracy: 0.1369 - val_loss: 6.3136 - val_accuracy: 0.1160\n",
      "Epoch 48/50\n",
      "743/743 [==============================] - 441s 594ms/step - loss: 5.8217 - accuracy: 0.1359 - val_loss: 6.7717 - val_accuracy: 0.1140\n",
      "Epoch 49/50\n",
      "743/743 [==============================] - 441s 594ms/step - loss: 5.8106 - accuracy: 0.1377 - val_loss: 6.4010 - val_accuracy: 0.1186\n",
      "Epoch 50/50\n",
      "743/743 [==============================] - 442s 594ms/step - loss: 5.8049 - accuracy: 0.1376 - val_loss: 6.3234 - val_accuracy: 0.1200\n"
     ]
    }
   ],
   "source": [
    "# model.compile(loss=\"categorical_crossentropy\", optimizer = RMSprop(learning_rate=0.01), metrics=[\"accuracy\"])\n",
    "# model.fit(X, Y, batch_size=128, epochs=50, shuffle=True)\n",
    "model.compile(loss='categorical_crossentropy', optimizer=RMSprop(learning_rate=0.01), metrics=['accuracy'])\n",
    "history = model.fit(X, Y, validation_split=0.05, batch_size=128, epochs=50, shuffle=True).history"
   ]
  },
  {
   "cell_type": "code",
   "execution_count": 34,
   "id": "b01d550b-00e0-4090-8983-3bc77ce10df6",
   "metadata": {
    "tags": []
   },
   "outputs": [],
   "source": [
    "model.save('Model1/Model.h5')\n",
    "pickle.dump(history, open(\"Model1/history.p\", \"wb\"))\n",
    "model = load_model('Model1/Model.h5')\n",
    "history = pickle.load(open(\"Model1/history.p\", \"rb\"))"
   ]
  },
  {
   "cell_type": "code",
   "execution_count": 35,
   "id": "ed818ffe-3f77-4906-8229-addd068cf9e1",
   "metadata": {
    "tags": []
   },
   "outputs": [],
   "source": [
    "with open('Model1/MetaData/context_words.pickle', 'wb') as file:\n",
    "    pickle.dump(context_words, file)\n",
    "with open('Model1/MetaData/unique_tokens.pickle', 'wb') as file:\n",
    "    pickle.dump(unique_tokens, file)\n",
    "with open('Model1/MetaData/unique_token_index.pickle', 'wb') as file:\n",
    "    pickle.dump(unique_token_index, file)   "
   ]
  },
  {
   "cell_type": "code",
   "execution_count": 36,
   "id": "fa049064-95b9-4e1b-b574-7de2c48a2fcf",
   "metadata": {},
   "outputs": [
    {
     "data": {
      "text/plain": [
       "<matplotlib.legend.Legend at 0x26f08acab00>"
      ]
     },
     "execution_count": 36,
     "metadata": {},
     "output_type": "execute_result"
    },
    {
     "data": {
      "image/png": "[encoded data removed]",
      "text/plain": [
       "<Figure size 640x480 with 1 Axes>"
      ]
     },
     "metadata": {},
     "output_type": "display_data"
    }
   ],
   "source": [
    "from matplotlib import pyplot as plt\n",
    "plt.plot(history['accuracy'])\n",
    "plt.plot(history['val_accuracy'])\n",
    "plt.title('model accuracy')\n",
    "plt.ylabel('accuracy')\n",
    "plt.xlabel('epoch')\n",
    "plt.legend(['train', 'val'], loc='upper left') \n"
   ]
  },
  {
   "cell_type": "code",
   "execution_count": 37,
   "id": "86d5d02f-a194-482a-a248-e3c4067d54c7",
   "metadata": {},
   "outputs": [
    {
     "data": {
      "text/plain": [
       "<matplotlib.legend.Legend at 0x26f08b5a7d0>"
      ]
     },
     "execution_count": 37,
     "metadata": {},
     "output_type": "execute_result"
    },
    {
     "data": {
      "image/png": "[encoded data removed]",
      "text/plain": [
       "<Figure size 640x480 with 1 Axes>"
      ]
     },
     "metadata": {},
     "output_type": "display_data"
    }
   ],
   "source": [
    "plt.plot(history['loss'])\n",
    "plt.plot(history['val_loss'])\n",
    "plt.title('model loss')\n",
    "plt.ylabel('loss')\n",
    "plt.xlabel('epoch')\n",
    "plt.legend(['train', 'val'], loc='upper left')"
   ]
  },
  {
   "cell_type": "code",
   "execution_count": null,
   "id": "7e5d01d3-79e4-4d0e-943e-57499bf54bae",
   "metadata": {},
   "outputs": [],
   "source": []
  }
 ],
 "metadata": {
  "kernelspec": {
   "display_name": "Python 3 (ipykernel)",
   "language": "python",
   "name": "python3"
  },
  "language_info": {
   "codemirror_mode": {
    "name": "ipython",
    "version": 3
   },
   "file_extension": ".py",
   "mimetype": "text/x-python",
   "name": "python",
   "nbconvert_exporter": "python",
   "pygments_lexer": "ipython3",
   "version": "3.10.9"
  }
 },
 "nbformat": 4,
 "nbformat_minor": 5
}
