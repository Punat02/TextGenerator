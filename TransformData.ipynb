{
 "cells": [
  {
   "cell_type": "code",
   "execution_count": 1,
   "id": "3746ec74-e095-4110-a01c-ada9310e3833",
   "metadata": {},
   "outputs": [],
   "source": [
    "import random\n",
    "import pickle\n",
    "\n",
    "import numpy as np\n",
    "import pandas as pd\n",
    "from nltk.tokenize import RegexpTokenizer\n",
    "\n",
    "from tensorflow.keras.models import Sequential, load_model\n",
    "from tensorflow.keras.layers import LSTM, Dense, Activation\n",
    "from tensorflow.keras.optimizers import RMSprop"
   ]
  },
  {
   "cell_type": "code",
   "execution_count": 2,
   "id": "f579ee80-e50d-480a-aca1-ba7c5431843e",
   "metadata": {},
   "outputs": [],
   "source": [
    "text4000 = pd.read_csv(\".//Data/4000/4000-stories-VAD.csv\")"
   ]
  },
  {
   "cell_type": "code",
   "execution_count": 3,
   "id": "a5182c73-f231-48e8-b151-24dc2a1286e3",
   "metadata": {},
   "outputs": [
    {
     "data": {
      "text/html": [
       "<div>\n",
       "<style scoped>\n",
       "    .dataframe tbody tr th:only-of-type {\n",
       "        vertical-align: middle;\n",
       "    }\n",
       "\n",
       "    .dataframe tbody tr th {\n",
       "        vertical-align: top;\n",
       "    }\n",
       "\n",
       "    .dataframe thead th {\n",
       "        text-align: right;\n",
       "    }\n",
       "</style>\n",
       "<table border=\"1\" class=\"dataframe\">\n",
       "  <thead>\n",
       "    <tr style=\"text-align: right;\">\n",
       "      <th></th>\n",
       "      <th>url</th>\n",
       "      <th>length</th>\n",
       "      <th>title</th>\n",
       "      <th>text_no</th>\n",
       "      <th>author</th>\n",
       "      <th>story</th>\n",
       "      <th>valence</th>\n",
       "      <th>arousal</th>\n",
       "      <th>dominance</th>\n",
       "      <th>text_id</th>\n",
       "      <th>...</th>\n",
       "      <th>290</th>\n",
       "      <th>291</th>\n",
       "      <th>292</th>\n",
       "      <th>293</th>\n",
       "      <th>294</th>\n",
       "      <th>295</th>\n",
       "      <th>296</th>\n",
       "      <th>297</th>\n",
       "      <th>298</th>\n",
       "      <th>299</th>\n",
       "    </tr>\n",
       "  </thead>\n",
       "  <tbody>\n",
       "    <tr>\n",
       "      <th>0</th>\n",
       "      <td>https://americanliterature.com/author/eleanor-...</td>\n",
       "      <td>15044</td>\n",
       "      <td>Peace on Earth, Good-Will to Dogs</td>\n",
       "      <td>0</td>\n",
       "      <td>Eleanor Hallowell Abbott</td>\n",
       "      <td>PART I\\n\\nIf you don't like Christmas stories,...</td>\n",
       "      <td>0.592896</td>\n",
       "      <td>0.397839</td>\n",
       "      <td>0.569567</td>\n",
       "      <td>0_eleanor-hallowell-abbott-peace-on-earth-good...</td>\n",
       "      <td>...</td>\n",
       "      <td>3.793141</td>\n",
       "      <td>3.837345</td>\n",
       "      <td>3.778354</td>\n",
       "      <td>-0.815515</td>\n",
       "      <td>-0.72044</td>\n",
       "      <td>-10.738245</td>\n",
       "      <td>-8.765683</td>\n",
       "      <td>0.875089</td>\n",
       "      <td>-10.176691</td>\n",
       "      <td>1.736791</td>\n",
       "    </tr>\n",
       "  </tbody>\n",
       "</table>\n",
       "<p>1 rows × 317 columns</p>\n",
       "</div>"
      ],
      "text/plain": [
       "                                                 url  length  \\\n",
       "0  https://americanliterature.com/author/eleanor-...   15044   \n",
       "\n",
       "                               title  text_no                    author  \\\n",
       "0  Peace on Earth, Good-Will to Dogs        0  Eleanor Hallowell Abbott   \n",
       "\n",
       "                                               story   valence   arousal  \\\n",
       "0  PART I\\n\\nIf you don't like Christmas stories,...  0.592896  0.397839   \n",
       "\n",
       "   dominance                                            text_id  ...  \\\n",
       "0   0.569567  0_eleanor-hallowell-abbott-peace-on-earth-good...  ...   \n",
       "\n",
       "        290       291       292       293      294        295       296  \\\n",
       "0  3.793141  3.837345  3.778354 -0.815515 -0.72044 -10.738245 -8.765683   \n",
       "\n",
       "        297        298       299  \n",
       "0  0.875089 -10.176691  1.736791  \n",
       "\n",
       "[1 rows x 317 columns]"
      ]
     },
     "execution_count": 3,
     "metadata": {},
     "output_type": "execute_result"
    }
   ],
   "source": [
    "text4000.head(1)"
   ]
  },
  {
   "cell_type": "code",
   "execution_count": 4,
   "id": "5a6bae71-6f25-44f2-9ec2-18bc9e98d859",
   "metadata": {},
   "outputs": [
    {
     "data": {
      "text/plain": [
       "Index(['url', 'length', 'title', 'text_no', 'author', 'story', 'valence',\n",
       "       'arousal', 'dominance', 'text_id',\n",
       "       ...\n",
       "       '290', '291', '292', '293', '294', '295', '296', '297', '298', '299'],\n",
       "      dtype='object', length=317)"
      ]
     },
     "execution_count": 4,
     "metadata": {},
     "output_type": "execute_result"
    }
   ],
   "source": [
    "text4000.keys()"
   ]
  },
  {
   "cell_type": "code",
   "execution_count": 5,
   "id": "2e483472-608e-4253-98a0-17dd12409c5d",
   "metadata": {
    "tags": []
   },
   "outputs": [],
   "source": [
    "texts= list(text4000.story.values)"
   ]
  },
  {
   "cell_type": "code",
   "execution_count": 6,
   "id": "f6799780-03cd-4c57-a3e1-9a42eda64f95",
   "metadata": {
    "tags": []
   },
   "outputs": [],
   "source": [
    "text_limiter=1000000 #10000 zeichen\n",
    "joined_text = \" \".join(texts)\n",
    "limited_text = joined_text[:text_limiter]"
   ]
  },
  {
   "cell_type": "code",
   "execution_count": 7,
   "id": "e38ca8a0-a997-48a0-a2d5-1cb467d1aa1b",
   "metadata": {},
   "outputs": [],
   "source": [
    "# Tokenizer erstellen und Texte darauf anwenden\n",
    "tokenizer = RegexpTokenizer(r\"\\w+\")\n",
    "tokens = tokenizer.tokenize(limited_text.lower())"
   ]
  },
  {
   "cell_type": "code",
   "execution_count": 8,
   "id": "a7eceeaa-0c1e-4bcd-aaf6-e87136390ad0",
   "metadata": {
    "tags": []
   },
   "outputs": [],
   "source": [
    "unique_tokens = np.unique(tokens)\n",
    "unique_token_index = {token: idx for idx, token in enumerate(unique_tokens)}"
   ]
  },
  {
   "cell_type": "code",
   "execution_count": 9,
   "id": "6c540333-3dd5-4554-9e3c-ac86c9e56f47",
   "metadata": {},
   "outputs": [],
   "source": [
    "context_words = 10\n",
    "input_words = []\n",
    "next_words = []\n",
    "\n",
    "for i in range(len(tokens) - context_words):\n",
    "    input_words.append(tokens[i:i + context_words])\n",
    "    next_words.append(tokens[i + context_words])"
   ]
  },
  {
   "cell_type": "code",
   "execution_count": 10,
   "id": "13800c4b-9fce-4720-81e3-56d3afbf4853",
   "metadata": {},
   "outputs": [
    {
     "name": "stdout",
     "output_type": "stream",
     "text": [
      "['heart', 'if', 'her', 'man', 'don', 't', 'seem', 'to', 'care', 'about']\n",
      "it\n"
     ]
    }
   ],
   "source": [
    "abc=10011\n",
    "print(input_words[abc])\n",
    "print(next_words[abc])"
   ]
  },
  {
   "cell_type": "code",
   "execution_count": 11,
   "id": "efdf27fe-683e-4971-9e9b-1c48a1f84983",
   "metadata": {},
   "outputs": [],
   "source": [
    "X = np.zeros((len(input_words), context_words, len(unique_tokens)), dtype=bool)\n",
    "Y = np.zeros((len(next_words), len(unique_tokens)), dtype=bool)"
   ]
  },
  {
   "cell_type": "code",
   "execution_count": 12,
   "id": "96fec496-140e-44a3-a136-9fc354ac43f8",
   "metadata": {},
   "outputs": [],
   "source": [
    "for i, words in enumerate(input_words):\n",
    "    for j, word in enumerate(words):\n",
    "        X[i,j, unique_token_index[word]] = 1\n",
    "    Y[i, unique_token_index[next_words[i]]] = 1"
   ]
  },
  {
   "cell_type": "code",
   "execution_count": 13,
   "id": "6ae18241-c607-4bd2-80a3-3ff04cb4c531",
   "metadata": {},
   "outputs": [],
   "source": [
    "# model = Sequential()\n",
    "# model.add(LSTM(128, input_shape=(context_words, len(unique_tokens)), return_sequences=True))\n",
    "# model.add(LSTM(128))\n",
    "# model.add(Dense(len(unique_tokens)))\n",
    "# model.add(Activation(\"softmax\"))\n",
    "model = load_model(\"model1000000w.tf\")"
   ]
  },
  {
   "cell_type": "code",
   "execution_count": 14,
   "id": "a1c9bd1c-dd97-46c0-af61-65745ea76d2c",
   "metadata": {
    "tags": []
   },
   "outputs": [
    {
     "name": "stdout",
     "output_type": "stream",
     "text": [
      "Epoch 1/50\n",
      "1470/1470 [==============================] - 396s 267ms/step - loss: 2.7388 - accuracy: 0.5484\n",
      "Epoch 2/50\n",
      "1470/1470 [==============================] - 398s 271ms/step - loss: 2.7103 - accuracy: 0.5524\n",
      "Epoch 3/50\n",
      "1470/1470 [==============================] - 436s 297ms/step - loss: 2.7324 - accuracy: 0.5506\n",
      "Epoch 4/50\n",
      "1470/1470 [==============================] - 440s 299ms/step - loss: 2.7222 - accuracy: 0.5512\n",
      "Epoch 5/50\n",
      "1470/1470 [==============================] - 442s 300ms/step - loss: 2.7189 - accuracy: 0.5512\n",
      "Epoch 6/50\n",
      "1470/1470 [==============================] - 439s 299ms/step - loss: 2.7187 - accuracy: 0.5485\n",
      "Epoch 7/50\n",
      "1470/1470 [==============================] - 439s 299ms/step - loss: 2.7270 - accuracy: 0.5505\n",
      "Epoch 8/50\n",
      "1470/1470 [==============================] - 439s 299ms/step - loss: 2.7177 - accuracy: 0.5501\n",
      "Epoch 9/50\n",
      "1470/1470 [==============================] - 440s 299ms/step - loss: 2.7294 - accuracy: 0.5487\n",
      "Epoch 10/50\n",
      "1470/1470 [==============================] - 442s 301ms/step - loss: 2.7282 - accuracy: 0.5494\n",
      "Epoch 11/50\n",
      "1470/1470 [==============================] - 442s 300ms/step - loss: 2.7236 - accuracy: 0.5498\n",
      "Epoch 12/50\n",
      "1470/1470 [==============================] - 444s 302ms/step - loss: 2.7403 - accuracy: 0.5493\n",
      "Epoch 13/50\n",
      "1470/1470 [==============================] - 442s 301ms/step - loss: 2.7416 - accuracy: 0.5490\n",
      "Epoch 14/50\n",
      "1470/1470 [==============================] - 443s 301ms/step - loss: 2.7472 - accuracy: 0.5475\n",
      "Epoch 15/50\n",
      "1470/1470 [==============================] - 444s 302ms/step - loss: 2.7493 - accuracy: 0.5490\n",
      "Epoch 16/50\n",
      "1470/1470 [==============================] - 444s 302ms/step - loss: 2.7654 - accuracy: 0.5464\n",
      "Epoch 17/50\n",
      "1470/1470 [==============================] - 444s 302ms/step - loss: 2.7767 - accuracy: 0.5464\n",
      "Epoch 18/50\n",
      "1470/1470 [==============================] - 444s 302ms/step - loss: 2.7663 - accuracy: 0.5453\n",
      "Epoch 19/50\n",
      "1470/1470 [==============================] - 445s 303ms/step - loss: 2.7809 - accuracy: 0.5449\n",
      "Epoch 20/50\n",
      "1470/1470 [==============================] - 446s 303ms/step - loss: 2.7990 - accuracy: 0.5427\n",
      "Epoch 21/50\n",
      "1470/1470 [==============================] - 444s 302ms/step - loss: 2.7960 - accuracy: 0.5424\n",
      "Epoch 22/50\n",
      "1470/1470 [==============================] - 446s 303ms/step - loss: 2.8039 - accuracy: 0.5411\n",
      "Epoch 23/50\n",
      "1470/1470 [==============================] - 449s 305ms/step - loss: 2.8246 - accuracy: 0.5385\n",
      "Epoch 24/50\n",
      "1470/1470 [==============================] - 445s 303ms/step - loss: 2.8231 - accuracy: 0.5379\n",
      "Epoch 25/50\n",
      "1470/1470 [==============================] - 443s 301ms/step - loss: 2.8305 - accuracy: 0.5378\n",
      "Epoch 26/50\n",
      "1470/1470 [==============================] - 443s 301ms/step - loss: 2.8112 - accuracy: 0.5400\n",
      "Epoch 27/50\n",
      "1470/1470 [==============================] - 443s 302ms/step - loss: 2.8151 - accuracy: 0.5401\n",
      "Epoch 28/50\n",
      "1470/1470 [==============================] - 444s 302ms/step - loss: 2.8245 - accuracy: 0.5393\n",
      "Epoch 29/50\n",
      "1470/1470 [==============================] - 445s 303ms/step - loss: 2.8292 - accuracy: 0.5393\n",
      "Epoch 30/50\n",
      "1470/1470 [==============================] - 445s 303ms/step - loss: 3.1158 - accuracy: 0.5126\n",
      "Epoch 31/50\n",
      "1470/1470 [==============================] - 444s 302ms/step - loss: 4.1047 - accuracy: 0.4261\n",
      "Epoch 32/50\n",
      "1470/1470 [==============================] - 447s 304ms/step - loss: 3.2960 - accuracy: 0.4764\n",
      "Epoch 33/50\n",
      "1470/1470 [==============================] - 444s 302ms/step - loss: 3.2401 - accuracy: 0.4833\n",
      "Epoch 34/50\n",
      "1470/1470 [==============================] - 445s 303ms/step - loss: 3.2409 - accuracy: 0.4814\n",
      "Epoch 35/50\n",
      "1470/1470 [==============================] - 474s 322ms/step - loss: 3.1692 - accuracy: 0.4887\n",
      "Epoch 36/50\n",
      "1470/1470 [==============================] - 463s 315ms/step - loss: 3.0333 - accuracy: 0.5073\n",
      "Epoch 37/50\n",
      "1470/1470 [==============================] - 446s 303ms/step - loss: 2.9682 - accuracy: 0.5143\n",
      "Epoch 38/50\n",
      "1470/1470 [==============================] - 453s 308ms/step - loss: 2.9552 - accuracy: 0.5181\n",
      "Epoch 39/50\n",
      "1470/1470 [==============================] - 481s 327ms/step - loss: 2.9639 - accuracy: 0.5180\n",
      "Epoch 40/50\n",
      "1470/1470 [==============================] - 517s 352ms/step - loss: 2.9446 - accuracy: 0.5212\n",
      "Epoch 41/50\n",
      "1470/1470 [==============================] - 448s 305ms/step - loss: 2.9738 - accuracy: 0.5178\n",
      "Epoch 42/50\n",
      "1470/1470 [==============================] - 448s 305ms/step - loss: 2.9588 - accuracy: 0.5187\n",
      "Epoch 43/50\n",
      "1470/1470 [==============================] - 447s 304ms/step - loss: 2.9424 - accuracy: 0.5200\n",
      "Epoch 44/50\n",
      "1470/1470 [==============================] - 530s 360ms/step - loss: 2.9493 - accuracy: 0.5180\n",
      "Epoch 45/50\n",
      "1470/1470 [==============================] - 449s 305ms/step - loss: 2.9556 - accuracy: 0.5185\n",
      "Epoch 46/50\n",
      "1470/1470 [==============================] - 453s 308ms/step - loss: 2.9679 - accuracy: 0.5179\n",
      "Epoch 47/50\n",
      "1470/1470 [==============================] - 449s 306ms/step - loss: 2.9859 - accuracy: 0.5166\n",
      "Epoch 48/50\n",
      "1470/1470 [==============================] - 446s 303ms/step - loss: 2.9724 - accuracy: 0.5173\n",
      "Epoch 49/50\n",
      "1470/1470 [==============================] - 446s 303ms/step - loss: 3.0037 - accuracy: 0.5138\n",
      "Epoch 50/50\n",
      "1470/1470 [==============================] - 448s 305ms/step - loss: 3.0172 - accuracy: 0.5120\n"
     ]
    },
    {
     "data": {
      "text/plain": [
       "<keras.callbacks.History at 0x20c73433c10>"
      ]
     },
     "execution_count": 14,
     "metadata": {},
     "output_type": "execute_result"
    }
   ],
   "source": [
    "# model.compile(loss=\"categorical_crossentropy\", optimizer = RMSprop(learning_rate=0.01), metrics=[\"accuracy\"])\n",
    "model.fit(X, Y, batch_size=128, epochs=50, shuffle=True)"
   ]
  },
  {
   "cell_type": "code",
   "execution_count": 15,
   "id": "b01d550b-00e0-4090-8983-3bc77ce10df6",
   "metadata": {},
   "outputs": [
    {
     "name": "stderr",
     "output_type": "stream",
     "text": [
      "WARNING:absl:Found untraced functions such as _update_step_xla, lstm_cell_layer_call_fn, lstm_cell_layer_call_and_return_conditional_losses, lstm_cell_1_layer_call_fn, lstm_cell_1_layer_call_and_return_conditional_losses while saving (showing 5 of 5). These functions will not be directly callable after loading.\n"
     ]
    },
    {
     "name": "stdout",
     "output_type": "stream",
     "text": [
      "INFO:tensorflow:Assets written to: model1000000w.tf\\assets\n"
     ]
    },
    {
     "name": "stderr",
     "output_type": "stream",
     "text": [
      "INFO:tensorflow:Assets written to: model1000000w.tf\\assets\n"
     ]
    }
   ],
   "source": [
    "model.save(\"model1000000w.tf\")"
   ]
  },
  {
   "cell_type": "code",
   "execution_count": 16,
   "id": "ed818ffe-3f77-4906-8229-addd068cf9e1",
   "metadata": {},
   "outputs": [],
   "source": [
    "with open('MetaData/context_words.pickle', 'wb') as file:\n",
    "    pickle.dump(context_words, file)\n",
    "with open('MetaData/unique_tokens.pickle', 'wb') as file:\n",
    "    pickle.dump(unique_tokens, file)\n",
    "with open('MetaData/unique_token_index.pickle', 'wb') as file:\n",
    "    pickle.dump(unique_token_index, file)   "
   ]
  },
  {
   "cell_type": "code",
   "execution_count": 17,
   "id": "4d4a718a-a381-45f8-8c14-02e7909ebf35",
   "metadata": {},
   "outputs": [
    {
     "data": {
      "text/plain": [
       "78553398"
      ]
     },
     "execution_count": 17,
     "metadata": {},
     "output_type": "execute_result"
    }
   ],
   "source": [
    "len(joined_text)"
   ]
  },
  {
   "cell_type": "code",
   "execution_count": null,
   "id": "fa049064-95b9-4e1b-b574-7de2c48a2fcf",
   "metadata": {},
   "outputs": [],
   "source": []
  }
 ],
 "metadata": {
  "kernelspec": {
   "display_name": "Python 3 (ipykernel)",
   "language": "python",
   "name": "python3"
  },
  "language_info": {
   "codemirror_mode": {
    "name": "ipython",
    "version": 3
   },
   "file_extension": ".py",
   "mimetype": "text/x-python",
   "name": "python",
   "nbconvert_exporter": "python",
   "pygments_lexer": "ipython3",
   "version": "3.10.9"
  }
 },
 "nbformat": 4,
 "nbformat_minor": 5
}
