{
 "cells": [
  {
   "cell_type": "code",
   "execution_count": 1,
   "id": "025e6b4f-caab-4be0-ad8d-4e2d02782b39",
   "metadata": {},
   "outputs": [
    {
     "ename": "FileNotFoundError",
     "evalue": "[Errno 2] No such file or directory: 'IModels/IModel0/history.p'",
     "output_type": "error",
     "traceback": [
      "\u001b[1;31m---------------------------------------------------------------------------\u001b[0m",
      "\u001b[1;31mFileNotFoundError\u001b[0m                         Traceback (most recent call last)",
      "Cell \u001b[1;32mIn[1], line 5\u001b[0m\n\u001b[0;32m      3\u001b[0m \u001b[38;5;28;01mfrom\u001b[39;00m \u001b[38;5;21;01mtensorflow\u001b[39;00m \u001b[38;5;28;01mimport\u001b[39;00m keras\n\u001b[0;32m      4\u001b[0m \u001b[38;5;28;01mimport\u001b[39;00m \u001b[38;5;21;01mpickle\u001b[39;00m\n\u001b[1;32m----> 5\u001b[0m history \u001b[38;5;241m=\u001b[39m pickle\u001b[38;5;241m.\u001b[39mload(\u001b[38;5;28;43mopen\u001b[39;49m\u001b[43m(\u001b[49m\u001b[38;5;124;43m\"\u001b[39;49m\u001b[38;5;124;43mIModels/IModel0/history.p\u001b[39;49m\u001b[38;5;124;43m\"\u001b[39;49m\u001b[43m,\u001b[49m\u001b[43m \u001b[49m\u001b[38;5;124;43m\"\u001b[39;49m\u001b[38;5;124;43mrb\u001b[39;49m\u001b[38;5;124;43m\"\u001b[39;49m\u001b[43m)\u001b[49m)\n\u001b[0;32m      7\u001b[0m plt\u001b[38;5;241m.\u001b[39mplot(history[\u001b[38;5;124m'\u001b[39m\u001b[38;5;124maccuracy\u001b[39m\u001b[38;5;124m'\u001b[39m])\n\u001b[0;32m      8\u001b[0m plt\u001b[38;5;241m.\u001b[39mplot(history[\u001b[38;5;124m'\u001b[39m\u001b[38;5;124mval_accuracy\u001b[39m\u001b[38;5;124m'\u001b[39m])\n",
      "File \u001b[1;32mD:\\Programme\\Anaconda\\lib\\site-packages\\IPython\\core\\interactiveshell.py:282\u001b[0m, in \u001b[0;36m_modified_open\u001b[1;34m(file, *args, **kwargs)\u001b[0m\n\u001b[0;32m    275\u001b[0m \u001b[38;5;28;01mif\u001b[39;00m file \u001b[38;5;129;01min\u001b[39;00m {\u001b[38;5;241m0\u001b[39m, \u001b[38;5;241m1\u001b[39m, \u001b[38;5;241m2\u001b[39m}:\n\u001b[0;32m    276\u001b[0m     \u001b[38;5;28;01mraise\u001b[39;00m \u001b[38;5;167;01mValueError\u001b[39;00m(\n\u001b[0;32m    277\u001b[0m         \u001b[38;5;124mf\u001b[39m\u001b[38;5;124m\"\u001b[39m\u001b[38;5;124mIPython won\u001b[39m\u001b[38;5;124m'\u001b[39m\u001b[38;5;124mt let you open fd=\u001b[39m\u001b[38;5;132;01m{\u001b[39;00mfile\u001b[38;5;132;01m}\u001b[39;00m\u001b[38;5;124m by default \u001b[39m\u001b[38;5;124m\"\u001b[39m\n\u001b[0;32m    278\u001b[0m         \u001b[38;5;124m\"\u001b[39m\u001b[38;5;124mas it is likely to crash IPython. If you know what you are doing, \u001b[39m\u001b[38;5;124m\"\u001b[39m\n\u001b[0;32m    279\u001b[0m         \u001b[38;5;124m\"\u001b[39m\u001b[38;5;124myou can use builtins\u001b[39m\u001b[38;5;124m'\u001b[39m\u001b[38;5;124m open.\u001b[39m\u001b[38;5;124m\"\u001b[39m\n\u001b[0;32m    280\u001b[0m     )\n\u001b[1;32m--> 282\u001b[0m \u001b[38;5;28;01mreturn\u001b[39;00m io_open(file, \u001b[38;5;241m*\u001b[39margs, \u001b[38;5;241m*\u001b[39m\u001b[38;5;241m*\u001b[39mkwargs)\n",
      "\u001b[1;31mFileNotFoundError\u001b[0m: [Errno 2] No such file or directory: 'IModels/IModel0/history.p'"
     ]
    }
   ],
   "source": [
    "from matplotlib import pyplot as plt\n",
    "import tensorflow as tf\n",
    "from tensorflow import keras\n",
    "import pickle\n",
    "history = pickle.load(open(\"IModels/IModel0/history.p\", \"rb\"))\n",
    "\n",
    "plt.plot(history['accuracy'])\n",
    "plt.plot(history['val_accuracy'])\n",
    "plt.title('IModel0 Accuracy')\n",
    "plt.ylabel('Accuracy')\n",
    "plt.xlabel('Epoch')\n",
    "plt.legend(['Training Data', 'Validation Data'], loc='upper left') \n",
    "plt.savefig('png/IModel0 Accuracy.png')"
   ]
  },
  {
   "cell_type": "code",
   "execution_count": null,
   "id": "34f4d7b4-7acc-4358-bcf3-8741a8c43b42",
   "metadata": {},
   "outputs": [],
   "source": [
    "plt.plot(history['loss'])\n",
    "plt.plot(history['val_loss'])\n",
    "plt.title('IModel0 Loss')\n",
    "plt.ylabel('Loss')\n",
    "plt.xlabel('Epoch')\n",
    "plt.legend(['Training Data', 'Validation Data'], loc='upper left') \n",
    "plt.savefig('png/IModel0 Loss.png')"
   ]
  },
  {
   "cell_type": "code",
   "execution_count": null,
   "id": "0d602018-bac3-40e4-88f6-884daedc7637",
   "metadata": {},
   "outputs": [],
   "source": [
    "plt.plot(history['top_5_categorical_accuracy'])\n",
    "plt.plot(history['val_top_5_categorical_accuracy'])\n",
    "plt.title('IModel0 top_5_categorical_accuracy')\n",
    "plt.ylabel('TopKCategoricalAccuracy')\n",
    "plt.xlabel('Epoch')\n",
    "plt.legend(['Training Data', 'Validation Data'], loc='upper left') \n",
    "plt.savefig('png/IModel0 top_5_categorical_accuracy k=5.png')"
   ]
  },
  {
   "cell_type": "code",
   "execution_count": null,
   "id": "0875472e-4107-4900-a857-839f9075595a",
   "metadata": {},
   "outputs": [],
   "source": [
    "plt.plot(history['top_10_categorical_accuracy'])\n",
    "plt.plot(history['val_top_10_categorical_accuracy'])\n",
    "plt.title('IModel0 top_10_categorical_accuracy')\n",
    "plt.ylabel('TopKCategoricalAccuracy')\n",
    "plt.xlabel('Epoch')\n",
    "plt.legend(['Training Data', 'Validation Data'], loc='upper left') \n",
    "plt.savefig('png/IModel0 top_10_categorical_accuracy k=5.png')"
   ]
  },
  {
   "cell_type": "code",
   "execution_count": null,
   "id": "d768d92f-eacd-426d-8bf1-c5266c8cf869",
   "metadata": {},
   "outputs": [],
   "source": [
    "from tensorflow import keras\n",
    "from tensorflow.keras.metrics import TopKCategoricalAccuracy\n",
    "from sklearn.metrics import f1_score\n",
    "import numpy as np\n",
    "\n",
    "# Metrics\n",
    "def top_5_categorical_accuracy(y_true, y_pred):\n",
    "    return keras.metrics.top_k_categorical_accuracy(y_true, y_pred, k=5)\n",
    "def top_10_categorical_accuracy(y_true, y_pred):\n",
    "    return keras.metrics.top_k_categorical_accuracy(y_true, y_pred, k=10)\n",
    "# Activation Functions\n",
    "def elliott_activation(x):\n",
    "    return (0.5 * x / (1 + tf.abs(x))) + 0.5\n",
    "def modified_elliott_activation(x):\n",
    "    return (x / tf.sqrt(1 + tf.square(x))) + 0.5\n",
    "# Registriere die benutzerdefinierten Metrikfunktionen\n",
    "custom_objects = {'top_5_categorical_accuracy': top_5_categorical_accuracy,\n",
    "                  'top_10_categorical_accuracy': top_10_categorical_accuracy,\n",
    "                 'elliott_activation': elliott_activation,\n",
    "                 'modified_elliott_activation': modified_elliott_activation}\n",
    "mname=\"IModel0\"\n",
    "# Lade das Modell mit den registrierten benutzerdefinierten Metriken\n",
    "with tf.keras.utils.custom_object_scope(custom_objects):\n",
    "    model = keras.models.load_model(\"Models/\"+mname+'/Model_200000.h5')\n",
    "\n",
    "# model = keras.models.load_model('Model6/Model_100000.h5')\n",
    "\n",
    "# Vorbereiten der Validierungsdaten\n",
    "with open('FormatedData/200000/x_val.pickle', 'rb') as file:\n",
    "    x_val = pickle.load(file)\n",
    "with open('FormatedData/200000/y_val.pickle', 'rb') as file:\n",
    "    y_val = pickle.load(file)\n",
    "\n",
    "# Vorhersagen des Modells für die Validierungsdaten\n",
    "predictions = model.predict(x_val)\n",
    "print(mname,\":\")\n",
    "# Genauigkeit (Accuracy)\n",
    "accuracy = np.mean(np.argmax(predictions, axis=1) == np.argmax(y_val, axis=1))\n",
    "print(\"Accuracy:\", accuracy)\n",
    "\n",
    "# Perplexität (Perplexity)\n",
    "perplexity = np.exp(np.mean(-np.log(predictions[np.arange(len(y_val)), np.argmax(y_val, axis=1)])))\n",
    "print(\"Perplexity:\", perplexity)\n",
    "\n",
    "# Top-k Genauigkeit (Top-k Accuracy)\n",
    "k = 5  # Anzahl der wahrscheinlichsten Vorhersagen\n",
    "top_k_accuracy = TopKCategoricalAccuracy(k=k)\n",
    "top_k_accuracy.update_state(y_val, predictions)\n",
    "print(\"Top-\", k, \"Accuracy:\", top_k_accuracy.result().numpy())\n",
    "\n",
    "# Top-k Genauigkeit (Top-k Accuracy)\n",
    "k = 10  # Anzahl der wahrscheinlichsten Vorhersagen\n",
    "top_k_accuracy = TopKCategoricalAccuracy(k=k)\n",
    "top_k_accuracy.update_state(y_val, predictions)\n",
    "print(\"Top-\", k, \"Accuracy:\", top_k_accuracy.result().numpy())"
   ]
  },
  {
   "cell_type": "code",
   "execution_count": null,
   "id": "403c36fe-0e90-47ef-8110-79f5a0564ba4",
   "metadata": {},
   "outputs": [],
   "source": [
    "history2 = pickle.load(open(\"Models/Model2/history.p\", \"rb\"))\n",
    "history3 = pickle.load(open(\"Models/Model3/history.p\", \"rb\"))\n",
    "print(\"Model2:\")\n",
    "print(\"Last top_5_categorical_accuracy:\",history2['top_k_categorical_accuracy'][49])\n",
    "print(\"Last val top_5_categorical_accuracy:\", history2['val_top_k_categorical_accuracy'][49])\n",
    "print(\"Model3:\")\n",
    "print(\"Last top_5_categorical_accuracy:\",history3['top_k_categorical_accuracy'][49])\n",
    "print(\"Last val top_5_categorical_accuracy:\", history3['val_top_k_categorical_accuracy'][49])"
   ]
  },
  {
   "cell_type": "code",
   "execution_count": null,
   "id": "8f21f0d7-0d8c-4809-9fe7-4dfac1de65e1",
   "metadata": {},
   "outputs": [],
   "source": [
    "models_to_show = [9,10]\n",
    "\n",
    "for model_num in models_to_show:\n",
    "    model = \"Models/Model\" + str(model_num)\n",
    "    history = pickle.load(open(model + \"/history.p\", \"rb\"))\n",
    "\n",
    "    print(model + \":\")\n",
    "    print(\"Last accuracy:\", history['accuracy'][-1])\n",
    "    print(\"Last val accuracy:\", history['val_accuracy'][-1])\n",
    "    print(\"Last Loss:\", history['loss'][-1])\n",
    "    print(\"Last val Loss:\", history['val_loss'][-1])\n",
    "    print(\"Last top_5_categorical_accuracy:\", history['top_5_categorical_accuracy'][-1])\n",
    "    print(\"Last val top_5_categorical_accuracy:\", history['val_top_5_categorical_accuracy'][-1])\n",
    "    print(\"Last top_10_categorical_accuracy:\", history['top_10_categorical_accuracy'][-1])\n",
    "    print(\"Last val top_10_categorical_accuracy:\", history['val_top_10_categorical_accuracy'][-1])"
   ]
  },
  {
   "cell_type": "code",
   "execution_count": null,
   "id": "fe6ad941-6248-4875-969e-e41e7dd467f5",
   "metadata": {},
   "outputs": [],
   "source": []
  }
 ],
 "metadata": {
  "kernelspec": {
   "display_name": "Python 3 (ipykernel)",
   "language": "python",
   "name": "python3"
  },
  "language_info": {
   "codemirror_mode": {
    "name": "ipython",
    "version": 3
   },
   "file_extension": ".py",
   "mimetype": "text/x-python",
   "name": "python",
   "nbconvert_exporter": "python",
   "pygments_lexer": "ipython3",
   "version": "3.10.9"
  }
 },
 "nbformat": 4,
 "nbformat_minor": 5
}
