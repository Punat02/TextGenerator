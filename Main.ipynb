{
 "cells": [
  {
   "cell_type": "code",
   "execution_count": 1,
   "metadata": {},
   "outputs": [],
   "source": [
    "import random\n",
    "import pickle\n",
    "\n",
    "import numpy as np\n",
    "import pandas as pd\n",
    "from nltk.tokenize import RegexpTokenizer\n"
   ]
  },
  {
   "cell_type": "code",
   "execution_count": 2,
   "metadata": {},
   "outputs": [],
   "source": [
    "test_df_4000 = pd.read_csv(\".//Data/4000/4000-stories-VAD.csv\")"
   ]
  },
  {
   "cell_type": "code",
   "execution_count": 3,
   "metadata": {},
   "outputs": [
    {
     "data": {
      "text/html": [
       "<div>\n",
       "<style scoped>\n",
       "    .dataframe tbody tr th:only-of-type {\n",
       "        vertical-align: middle;\n",
       "    }\n",
       "\n",
       "    .dataframe tbody tr th {\n",
       "        vertical-align: top;\n",
       "    }\n",
       "\n",
       "    .dataframe thead th {\n",
       "        text-align: right;\n",
       "    }\n",
       "</style>\n",
       "<table border=\"1\" class=\"dataframe\">\n",
       "  <thead>\n",
       "    <tr style=\"text-align: right;\">\n",
       "      <th></th>\n",
       "      <th>url</th>\n",
       "      <th>length</th>\n",
       "      <th>title</th>\n",
       "      <th>text_no</th>\n",
       "      <th>author</th>\n",
       "      <th>story</th>\n",
       "      <th>valence</th>\n",
       "      <th>arousal</th>\n",
       "      <th>dominance</th>\n",
       "      <th>text_id</th>\n",
       "      <th>...</th>\n",
       "      <th>290</th>\n",
       "      <th>291</th>\n",
       "      <th>292</th>\n",
       "      <th>293</th>\n",
       "      <th>294</th>\n",
       "      <th>295</th>\n",
       "      <th>296</th>\n",
       "      <th>297</th>\n",
       "      <th>298</th>\n",
       "      <th>299</th>\n",
       "    </tr>\n",
       "  </thead>\n",
       "  <tbody>\n",
       "    <tr>\n",
       "      <th>0</th>\n",
       "      <td>https://americanliterature.com/author/eleanor-...</td>\n",
       "      <td>15044</td>\n",
       "      <td>Peace on Earth, Good-Will to Dogs</td>\n",
       "      <td>0</td>\n",
       "      <td>Eleanor Hallowell Abbott</td>\n",
       "      <td>PART I\\n\\nIf you don't like Christmas stories,...</td>\n",
       "      <td>0.592896</td>\n",
       "      <td>0.397839</td>\n",
       "      <td>0.569567</td>\n",
       "      <td>0_eleanor-hallowell-abbott-peace-on-earth-good...</td>\n",
       "      <td>...</td>\n",
       "      <td>3.793141</td>\n",
       "      <td>3.837345</td>\n",
       "      <td>3.778354</td>\n",
       "      <td>-0.815515</td>\n",
       "      <td>-0.72044</td>\n",
       "      <td>-10.738245</td>\n",
       "      <td>-8.765683</td>\n",
       "      <td>0.875089</td>\n",
       "      <td>-10.176691</td>\n",
       "      <td>1.736791</td>\n",
       "    </tr>\n",
       "  </tbody>\n",
       "</table>\n",
       "<p>1 rows × 317 columns</p>\n",
       "</div>"
      ],
      "text/plain": [
       "                                                 url  length  \\\n",
       "0  https://americanliterature.com/author/eleanor-...   15044   \n",
       "\n",
       "                               title  text_no                    author  \\\n",
       "0  Peace on Earth, Good-Will to Dogs        0  Eleanor Hallowell Abbott   \n",
       "\n",
       "                                               story   valence   arousal  \\\n",
       "0  PART I\\n\\nIf you don't like Christmas stories,...  0.592896  0.397839   \n",
       "\n",
       "   dominance                                            text_id  ...  \\\n",
       "0   0.569567  0_eleanor-hallowell-abbott-peace-on-earth-good...  ...   \n",
       "\n",
       "        290       291       292       293      294        295       296  \\\n",
       "0  3.793141  3.837345  3.778354 -0.815515 -0.72044 -10.738245 -8.765683   \n",
       "\n",
       "        297        298       299  \n",
       "0  0.875089 -10.176691  1.736791  \n",
       "\n",
       "[1 rows x 317 columns]"
      ]
     },
     "execution_count": 3,
     "metadata": {},
     "output_type": "execute_result"
    }
   ],
   "source": [
    "test_df_4000.head(1)"
   ]
  },
  {
   "cell_type": "code",
   "execution_count": 4,
   "metadata": {},
   "outputs": [
    {
     "data": {
      "text/plain": [
       "Index(['url', 'length', 'title', 'text_no', 'author', 'story', 'valence',\n",
       "       'arousal', 'dominance', 'text_id',\n",
       "       ...\n",
       "       '290', '291', '292', '293', '294', '295', '296', '297', '298', '299'],\n",
       "      dtype='object', length=317)"
      ]
     },
     "execution_count": 4,
     "metadata": {},
     "output_type": "execute_result"
    }
   ],
   "source": [
    "test_df_4000.keys()"
   ]
  },
  {
   "cell_type": "code",
   "execution_count": 5,
   "metadata": {},
   "outputs": [],
   "source": [
    "test_df_books = pd.read_csv(\".//Data/2/db_books.csv\")"
   ]
  },
  {
   "cell_type": "code",
   "execution_count": 6,
   "metadata": {},
   "outputs": [
    {
     "data": {
      "text/html": [
       "<div>\n",
       "<style scoped>\n",
       "    .dataframe tbody tr th:only-of-type {\n",
       "        vertical-align: middle;\n",
       "    }\n",
       "\n",
       "    .dataframe tbody tr th {\n",
       "        vertical-align: top;\n",
       "    }\n",
       "\n",
       "    .dataframe thead th {\n",
       "        text-align: right;\n",
       "    }\n",
       "</style>\n",
       "<table border=\"1\" class=\"dataframe\">\n",
       "  <thead>\n",
       "    <tr style=\"text-align: right;\">\n",
       "      <th></th>\n",
       "      <th>bookno</th>\n",
       "      <th>Title</th>\n",
       "      <th>Author</th>\n",
       "      <th>Language</th>\n",
       "    </tr>\n",
       "  </thead>\n",
       "  <tbody>\n",
       "    <tr>\n",
       "      <th>0</th>\n",
       "      <td>51082.txt</td>\n",
       "      <td>Coming Attraction</td>\n",
       "      <td>Fritz Leiber</td>\n",
       "      <td>English</td>\n",
       "    </tr>\n",
       "    <tr>\n",
       "      <th>1</th>\n",
       "      <td>32243.txt</td>\n",
       "      <td>Confidence Game</td>\n",
       "      <td>James McKimmey</td>\n",
       "      <td>English</td>\n",
       "    </tr>\n",
       "    <tr>\n",
       "      <th>2</th>\n",
       "      <td>306-0.txt</td>\n",
       "      <td>The Early Short Fiction of Edith Wharton, Par...</td>\n",
       "      <td>Edith Wharton</td>\n",
       "      <td>English</td>\n",
       "    </tr>\n",
       "    <tr>\n",
       "      <th>3</th>\n",
       "      <td>31038.txt</td>\n",
       "      <td>The Real Hard Sell</td>\n",
       "      <td>William W Stuart</td>\n",
       "      <td>English</td>\n",
       "    </tr>\n",
       "    <tr>\n",
       "      <th>4</th>\n",
       "      <td>28636-8.txt</td>\n",
       "      <td>The Grey Woman and other Tales</td>\n",
       "      <td>Mrs. (Elizabeth) Gaskell</td>\n",
       "      <td>English</td>\n",
       "    </tr>\n",
       "    <tr>\n",
       "      <th>...</th>\n",
       "      <td>...</td>\n",
       "      <td>...</td>\n",
       "      <td>...</td>\n",
       "      <td>...</td>\n",
       "    </tr>\n",
       "    <tr>\n",
       "      <th>997</th>\n",
       "      <td>29487.txt</td>\n",
       "      <td>Forever</td>\n",
       "      <td>Robert Sheckley</td>\n",
       "      <td>English</td>\n",
       "    </tr>\n",
       "    <tr>\n",
       "      <th>998</th>\n",
       "      <td>56527-0.txt</td>\n",
       "      <td>In a Quiet Village</td>\n",
       "      <td>Sabine Baring-Gould</td>\n",
       "      <td>English</td>\n",
       "    </tr>\n",
       "    <tr>\n",
       "      <th>999</th>\n",
       "      <td>31218-8.txt</td>\n",
       "      <td>Flten und Dolche</td>\n",
       "      <td>Heinrich Mann</td>\n",
       "      <td>German</td>\n",
       "    </tr>\n",
       "    <tr>\n",
       "      <th>1000</th>\n",
       "      <td>33839.txt</td>\n",
       "      <td>Problem on Balak</td>\n",
       "      <td>Roger D. Aycock</td>\n",
       "      <td>English</td>\n",
       "    </tr>\n",
       "    <tr>\n",
       "      <th>1001</th>\n",
       "      <td>59376.txt</td>\n",
       "      <td>The Patriot</td>\n",
       "      <td>Charles L. Fontenay</td>\n",
       "      <td>English</td>\n",
       "    </tr>\n",
       "  </tbody>\n",
       "</table>\n",
       "<p>1002 rows × 4 columns</p>\n",
       "</div>"
      ],
      "text/plain": [
       "           bookno                                              Title  \\\n",
       "0       51082.txt                                  Coming Attraction   \n",
       "1       32243.txt                                    Confidence Game   \n",
       "2       306-0.txt   The Early Short Fiction of Edith Wharton, Par...   \n",
       "3       31038.txt                                 The Real Hard Sell   \n",
       "4     28636-8.txt                     The Grey Woman and other Tales   \n",
       "...           ...                                                ...   \n",
       "997     29487.txt                                            Forever   \n",
       "998   56527-0.txt                                 In a Quiet Village   \n",
       "999   31218-8.txt                                   Flten und Dolche   \n",
       "1000    33839.txt                                   Problem on Balak   \n",
       "1001    59376.txt                                        The Patriot   \n",
       "\n",
       "                         Author  Language  \n",
       "0                  Fritz Leiber   English  \n",
       "1                James McKimmey   English  \n",
       "2                 Edith Wharton   English  \n",
       "3              William W Stuart   English  \n",
       "4      Mrs. (Elizabeth) Gaskell   English  \n",
       "...                         ...       ...  \n",
       "997             Robert Sheckley   English  \n",
       "998         Sabine Baring-Gould   English  \n",
       "999               Heinrich Mann    German  \n",
       "1000            Roger D. Aycock   English  \n",
       "1001        Charles L. Fontenay   English  \n",
       "\n",
       "[1002 rows x 4 columns]"
      ]
     },
     "execution_count": 6,
     "metadata": {},
     "output_type": "execute_result"
    }
   ],
   "source": [
    "test_df_books"
   ]
  },
  {
   "cell_type": "code",
   "execution_count": 7,
   "metadata": {},
   "outputs": [],
   "source": [
    "test_df_stories = pd.read_csv(\".//Data/2/stories.csv\")"
   ]
  },
  {
   "cell_type": "code",
   "execution_count": 8,
   "metadata": {},
   "outputs": [
    {
     "data": {
      "text/html": [
       "<div>\n",
       "<style scoped>\n",
       "    .dataframe tbody tr th:only-of-type {\n",
       "        vertical-align: middle;\n",
       "    }\n",
       "\n",
       "    .dataframe tbody tr th {\n",
       "        vertical-align: top;\n",
       "    }\n",
       "\n",
       "    .dataframe thead th {\n",
       "        text-align: right;\n",
       "    }\n",
       "</style>\n",
       "<table border=\"1\" class=\"dataframe\">\n",
       "  <thead>\n",
       "    <tr style=\"text-align: right;\">\n",
       "      <th></th>\n",
       "      <th>bookno</th>\n",
       "      <th>content</th>\n",
       "    </tr>\n",
       "  </thead>\n",
       "  <tbody>\n",
       "    <tr>\n",
       "      <th>0</th>\n",
       "      <td>51082.txt</td>\n",
       "      <td>*** START OF THIS PROJECT GUTENBERG EBOOK COMI...</td>\n",
       "    </tr>\n",
       "    <tr>\n",
       "      <th>1</th>\n",
       "      <td>32243.txt</td>\n",
       "      <td>*** START OF THIS PROJECT GUTENBERG EBOOK CONF...</td>\n",
       "    </tr>\n",
       "    <tr>\n",
       "      <th>2</th>\n",
       "      <td>306-0.txt</td>\n",
       "      <td>*** START OF THIS PROJECT GUTENBERG EBOOK EARL...</td>\n",
       "    </tr>\n",
       "    <tr>\n",
       "      <th>3</th>\n",
       "      <td>31038.txt</td>\n",
       "      <td>*** START OF THIS PROJECT GUTENBERG EBOOK THE ...</td>\n",
       "    </tr>\n",
       "    <tr>\n",
       "      <th>4</th>\n",
       "      <td>28636-8.txt</td>\n",
       "      <td>*** START OF THIS PROJECT GUTENBERG EBOOK THE ...</td>\n",
       "    </tr>\n",
       "    <tr>\n",
       "      <th>...</th>\n",
       "      <td>...</td>\n",
       "      <td>...</td>\n",
       "    </tr>\n",
       "    <tr>\n",
       "      <th>997</th>\n",
       "      <td>29487.txt</td>\n",
       "      <td>*** START OF THIS PROJECT GUTENBERG EBOOK FORE...</td>\n",
       "    </tr>\n",
       "    <tr>\n",
       "      <th>998</th>\n",
       "      <td>56527-0.txt</td>\n",
       "      <td>*** START OF THIS PROJECT GUTENBERG EBOOK IN A...</td>\n",
       "    </tr>\n",
       "    <tr>\n",
       "      <th>999</th>\n",
       "      <td>31218-8.txt</td>\n",
       "      <td>*** START OF THIS PROJECT GUTENBERG EBOOK FLTE...</td>\n",
       "    </tr>\n",
       "    <tr>\n",
       "      <th>1000</th>\n",
       "      <td>33839.txt</td>\n",
       "      <td>*** START OF THIS PROJECT GUTENBERG EBOOK PROB...</td>\n",
       "    </tr>\n",
       "    <tr>\n",
       "      <th>1001</th>\n",
       "      <td>59376.txt</td>\n",
       "      <td>*** START OF THIS PROJECT GUTENBERG EBOOK THE ...</td>\n",
       "    </tr>\n",
       "  </tbody>\n",
       "</table>\n",
       "<p>1002 rows × 2 columns</p>\n",
       "</div>"
      ],
      "text/plain": [
       "           bookno                                            content\n",
       "0       51082.txt  *** START OF THIS PROJECT GUTENBERG EBOOK COMI...\n",
       "1       32243.txt  *** START OF THIS PROJECT GUTENBERG EBOOK CONF...\n",
       "2       306-0.txt  *** START OF THIS PROJECT GUTENBERG EBOOK EARL...\n",
       "3       31038.txt  *** START OF THIS PROJECT GUTENBERG EBOOK THE ...\n",
       "4     28636-8.txt  *** START OF THIS PROJECT GUTENBERG EBOOK THE ...\n",
       "...           ...                                                ...\n",
       "997     29487.txt  *** START OF THIS PROJECT GUTENBERG EBOOK FORE...\n",
       "998   56527-0.txt  *** START OF THIS PROJECT GUTENBERG EBOOK IN A...\n",
       "999   31218-8.txt  *** START OF THIS PROJECT GUTENBERG EBOOK FLTE...\n",
       "1000    33839.txt  *** START OF THIS PROJECT GUTENBERG EBOOK PROB...\n",
       "1001    59376.txt  *** START OF THIS PROJECT GUTENBERG EBOOK THE ...\n",
       "\n",
       "[1002 rows x 2 columns]"
      ]
     },
     "execution_count": 8,
     "metadata": {},
     "output_type": "execute_result"
    }
   ],
   "source": [
    "test_df_stories"
   ]
  },
  {
   "cell_type": "code",
   "execution_count": 9,
   "metadata": {},
   "outputs": [],
   "source": [
    "import numpy as np\n",
    "from keras.preprocessing.text import Tokenizer\n",
    "from keras.utils import pad_sequences"
   ]
  },
  {
   "cell_type": "code",
   "execution_count": 10,
   "metadata": {},
   "outputs": [],
   "source": [
    "\n",
    "# Texte aus den Spalten 'title' und 'story' kombinieren\n",
    "text = test_df_4000['title'] + \" \" + test_df_4000['story']\n",
    "\n",
    "# Tokenizer erstellen und Texte darauf anwenden\n",
    "tokenizer = Tokenizer()\n",
    "tokenizer.fit_on_texts(text)\n",
    "sequences = tokenizer.texts_to_sequences(text)\n",
    "\n",
    "# Maximaler Längenwert für die Sequenzen\n",
    "max_len = 100\n"
   ]
  },
  {
   "cell_type": "code",
   "execution_count": 11,
   "metadata": {},
   "outputs": [
    {
     "name": "stdout",
     "output_type": "stream",
     "text": [
      "Unexpected exception formatting exception. Falling back to standard exception\n"
     ]
    },
    {
     "name": "stderr",
     "output_type": "stream",
     "text": [
      "Traceback (most recent call last):\n",
      "  File \"D:\\Programme\\Anaconda\\lib\\site-packages\\IPython\\core\\interactiveshell.py\", line 3460, in run_code\n",
      "    exec(code_obj, self.user_global_ns, self.user_ns)\n",
      "  File \"C:\\Users\\Marce\\AppData\\Local\\Temp\\ipykernel_27424\\3179358249.py\", line 11, in <module>\n",
      "    predictors_title.append(seq[:i])\n",
      "MemoryError\n",
      "\n",
      "During handling of the above exception, another exception occurred:\n",
      "\n",
      "Traceback (most recent call last):\n",
      "  File \"D:\\Programme\\Anaconda\\lib\\site-packages\\executing\\executing.py\", line 317, in executing\n",
      "    args = executing_cache[key]\n",
      "KeyError: (<code object run_code at 0x0000020D9B18EA20, file \"D:\\Programme\\Anaconda\\lib\\site-packages\\IPython\\core\\interactiveshell.py\", line 3424>, 2257459931680, 76)\n",
      "\n",
      "During handling of the above exception, another exception occurred:\n",
      "\n",
      "Traceback (most recent call last):\n",
      "  File \"D:\\Programme\\Anaconda\\lib\\site-packages\\IPython\\core\\interactiveshell.py\", line 2057, in showtraceback\n",
      "    stb = self.InteractiveTB.structured_traceback(\n",
      "  File \"D:\\Programme\\Anaconda\\lib\\site-packages\\IPython\\core\\ultratb.py\", line 1118, in structured_traceback\n",
      "    return FormattedTB.structured_traceback(\n",
      "  File \"D:\\Programme\\Anaconda\\lib\\site-packages\\IPython\\core\\ultratb.py\", line 1012, in structured_traceback\n",
      "    return VerboseTB.structured_traceback(\n",
      "  File \"D:\\Programme\\Anaconda\\lib\\site-packages\\IPython\\core\\ultratb.py\", line 865, in structured_traceback\n",
      "    formatted_exception = self.format_exception_as_a_whole(etype, evalue, etb, number_of_lines_of_context,\n",
      "  File \"D:\\Programme\\Anaconda\\lib\\site-packages\\IPython\\core\\ultratb.py\", line 799, in format_exception_as_a_whole\n",
      "    self.get_records(etb, number_of_lines_of_context, tb_offset) if etb else []\n",
      "  File \"D:\\Programme\\Anaconda\\lib\\site-packages\\IPython\\core\\ultratb.py\", line 854, in get_records\n",
      "    return list(stack_data.FrameInfo.stack_data(etb, options=options))[tb_offset:]\n",
      "  File \"D:\\Programme\\Anaconda\\lib\\site-packages\\stack_data\\core.py\", line 565, in stack_data\n",
      "    yield from collapse_repeated(\n",
      "  File \"D:\\Programme\\Anaconda\\lib\\site-packages\\stack_data\\utils.py\", line 84, in collapse_repeated\n",
      "    yield from map(mapper, original_group)\n",
      "  File \"D:\\Programme\\Anaconda\\lib\\site-packages\\stack_data\\core.py\", line 555, in mapper\n",
      "    return cls(f, options)\n",
      "  File \"D:\\Programme\\Anaconda\\lib\\site-packages\\stack_data\\core.py\", line 520, in __init__\n",
      "    self.executing = Source.executing(frame_or_tb)\n",
      "  File \"D:\\Programme\\Anaconda\\lib\\site-packages\\executing\\executing.py\", line 369, in executing\n",
      "    args = find(source=cls.for_frame(frame), retry_cache=True)\n",
      "  File \"D:\\Programme\\Anaconda\\lib\\site-packages\\executing\\executing.py\", line 252, in for_frame\n",
      "    return cls.for_filename(frame.f_code.co_filename, frame.f_globals or {}, use_cache)\n",
      "  File \"D:\\Programme\\Anaconda\\lib\\site-packages\\executing\\executing.py\", line 270, in for_filename\n",
      "    result = source_cache[filename] = cls._for_filename_and_lines(filename, lines)\n",
      "  File \"D:\\Programme\\Anaconda\\lib\\site-packages\\executing\\executing.py\", line 281, in _for_filename_and_lines\n",
      "    result = source_cache[(filename, lines)] = cls(filename, lines)\n",
      "  File \"D:\\Programme\\Anaconda\\lib\\site-packages\\stack_data\\core.py\", line 79, in __init__\n",
      "    super(Source, self).__init__(*args, **kwargs)\n",
      "  File \"D:\\Programme\\Anaconda\\lib\\site-packages\\executing\\executing.py\", line 228, in __init__\n",
      "    self.tree = ast.parse(ast_text, filename=filename)\n",
      "  File \"D:\\Programme\\Anaconda\\lib\\ast.py\", line 50, in parse\n",
      "    return compile(source, filename, mode, flags,\n",
      "MemoryError\n"
     ]
    }
   ],
   "source": [
    "\n",
    "# Vorhersagesequenzen erstellen\n",
    "predictors_title = []\n",
    "predictors_last_words = []\n",
    "labels = []\n",
    "b=0\n",
    "for seq in sequences:\n",
    "    print (b, end=\"\\r\")\n",
    "    b+=1\n",
    "    for i in range(1, len(seq)):\n",
    "        # Vorhersage für das nächste Wort basierend auf dem Titel\n",
    "        predictors_title.append(seq[:i])\n",
    "        labels.append(seq[i])\n",
    "        \n",
    "        # Vorhersage für das nächste Wort basierend auf den letzten Wörtern\n",
    "        if i < max_len:\n",
    "            predictors_last_words.append(seq[max(0, i-max_len):i])\n",
    "        else:\n",
    "            predictors_last_words.append(seq[i-max_len:i])\n",
    "\n"
   ]
  },
  {
   "cell_type": "code",
   "execution_count": null,
   "metadata": {
    "tags": []
   },
   "outputs": [],
   "source": [
    "# Sequenzen mit Padding versehen\n",
    "predictors_title = pad_sequences(predictors_title, maxlen=max_len)\n",
    "predictors_last_words = pad_sequences(predictors_last_words, maxlen=max_len)\n",
    "\n",
    "# Labels in numpy-Array konvertieren\n",
    "labels = np.array(labels)"
   ]
  },
  {
   "cell_type": "code",
   "execution_count": null,
   "metadata": {
    "tags": []
   },
   "outputs": [],
   "source": [
    "sequences"
   ]
  },
  {
   "cell_type": "code",
   "execution_count": null,
   "metadata": {},
   "outputs": [],
   "source": [
    "len(sequences[0])"
   ]
  },
  {
   "cell_type": "code",
   "execution_count": null,
   "metadata": {
    "tags": []
   },
   "outputs": [],
   "source": [
    "sequences[0][:i]"
   ]
  },
  {
   "cell_type": "code",
   "execution_count": null,
   "metadata": {},
   "outputs": [],
   "source": []
  },
  {
   "cell_type": "code",
   "execution_count": null,
   "metadata": {},
   "outputs": [],
   "source": []
  }
 ],
 "metadata": {
  "kernelspec": {
   "display_name": "Python 3 (ipykernel)",
   "language": "python",
   "name": "python3"
  },
  "language_info": {
   "codemirror_mode": {
    "name": "ipython",
    "version": 3
   },
   "file_extension": ".py",
   "mimetype": "text/x-python",
   "name": "python",
   "nbconvert_exporter": "python",
   "pygments_lexer": "ipython3",
   "version": "3.10.9"
  }
 },
 "nbformat": 4,
 "nbformat_minor": 4
}
